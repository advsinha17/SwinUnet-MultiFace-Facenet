{
 "cells": [
  {
   "cell_type": "code",
   "execution_count": 1,
   "metadata": {},
   "outputs": [
    {
     "name": "stderr",
     "output_type": "stream",
     "text": [
      "WARNING:absl:At this time, the v2.11+ optimizer `tf.keras.optimizers.Adam` runs slowly on M1/M2 Macs, please use the legacy Keras optimizer instead, located at `tf.keras.optimizers.legacy.Adam`.\n"
     ]
    }
   ],
   "source": [
    "import tensorflow as tf\n",
    "\n",
    "from model import BetaVAE\n",
    "from dataset import DataGenerator\n",
    "from train import train\n",
    "import numpy as np\n",
    "import os"
   ]
  },
  {
   "cell_type": "code",
   "execution_count": 2,
   "metadata": {},
   "outputs": [],
   "source": [
    "data = np.load(os.path.join(os.getcwd(), 'dsprites_ndarray_co1sh3sc6or40x32y32_64x64.npz'), allow_pickle=True, encoding='latin1')"
   ]
  },
  {
   "cell_type": "code",
   "execution_count": 6,
   "metadata": {},
   "outputs": [
    {
     "name": "stderr",
     "output_type": "stream",
     "text": [
      "Loss: 144.2472, Reconstruction Loss: 140.4719, kl_div_loss: 0.9438: 100%|██████████| 157/157 [00:49<00:00,  3.16batch/s] \n"
     ]
    },
    {
     "name": "stdout",
     "output_type": "stream",
     "text": [
      "End of Epoch 1, Loss: 144.2472, Reconstruction Loss: 140.4719, kl_div_loss: 0.9438\n"
     ]
    },
    {
     "name": "stderr",
     "output_type": "stream",
     "text": [
      "Loss: 74.3567, Reconstruction Loss: 72.4652, kl_div_loss: 0.4729: 100%|██████████| 157/157 [00:52<00:00,  2.98batch/s] \n"
     ]
    },
    {
     "name": "stdout",
     "output_type": "stream",
     "text": [
      "End of Epoch 2, Loss: 74.3567, Reconstruction Loss: 72.4652, kl_div_loss: 0.4729\n"
     ]
    },
    {
     "name": "stderr",
     "output_type": "stream",
     "text": [
      "Loss: 50.7754, Reconstruction Loss: 49.5142, kl_div_loss: 0.3153: 100%|██████████| 157/157 [00:53<00:00,  2.92batch/s]\n"
     ]
    },
    {
     "name": "stdout",
     "output_type": "stream",
     "text": [
      "End of Epoch 3, Loss: 50.7754, Reconstruction Loss: 49.5142, kl_div_loss: 0.3153\n"
     ]
    },
    {
     "name": "stderr",
     "output_type": "stream",
     "text": [
      "Loss: 38.9511, Reconstruction Loss: 38.0051, kl_div_loss: 0.2365: 100%|██████████| 157/157 [00:48<00:00,  3.25batch/s]\n"
     ]
    },
    {
     "name": "stdout",
     "output_type": "stream",
     "text": [
      "End of Epoch 4, Loss: 38.9511, Reconstruction Loss: 38.0051, kl_div_loss: 0.2365\n"
     ]
    },
    {
     "name": "stderr",
     "output_type": "stream",
     "text": [
      "Loss: 31.8480, Reconstruction Loss: 31.0912, kl_div_loss: 0.1892: 100%|██████████| 157/157 [00:47<00:00,  3.31batch/s]\n"
     ]
    },
    {
     "name": "stdout",
     "output_type": "stream",
     "text": [
      "End of Epoch 5, Loss: 31.8480, Reconstruction Loss: 31.0912, kl_div_loss: 0.1892\n"
     ]
    },
    {
     "name": "stderr",
     "output_type": "stream",
     "text": [
      "Loss: 27.1089, Reconstruction Loss: 26.4783, kl_div_loss: 0.1577: 100%|██████████| 157/157 [00:46<00:00,  3.40batch/s]\n"
     ]
    },
    {
     "name": "stdout",
     "output_type": "stream",
     "text": [
      "End of Epoch 6, Loss: 27.1089, Reconstruction Loss: 26.4783, kl_div_loss: 0.1577\n"
     ]
    },
    {
     "name": "stderr",
     "output_type": "stream",
     "text": [
      "Loss: 23.7220, Reconstruction Loss: 23.1814, kl_div_loss: 0.1352: 100%|██████████| 157/157 [00:41<00:00,  3.80batch/s]\n"
     ]
    },
    {
     "name": "stdout",
     "output_type": "stream",
     "text": [
      "End of Epoch 7, Loss: 23.7220, Reconstruction Loss: 23.1814, kl_div_loss: 0.1352\n"
     ]
    },
    {
     "name": "stderr",
     "output_type": "stream",
     "text": [
      "Loss: 21.1806, Reconstruction Loss: 20.7076, kl_div_loss: 0.1183: 100%|██████████| 157/157 [00:49<00:00,  3.16batch/s]\n"
     ]
    },
    {
     "name": "stdout",
     "output_type": "stream",
     "text": [
      "End of Epoch 8, Loss: 21.1806, Reconstruction Loss: 20.7076, kl_div_loss: 0.1183\n"
     ]
    },
    {
     "name": "stderr",
     "output_type": "stream",
     "text": [
      "Loss: 19.2033, Reconstruction Loss: 18.7828, kl_div_loss: 0.1051: 100%|██████████| 157/157 [00:45<00:00,  3.46batch/s]\n"
     ]
    },
    {
     "name": "stdout",
     "output_type": "stream",
     "text": [
      "End of Epoch 9, Loss: 19.2033, Reconstruction Loss: 18.7828, kl_div_loss: 0.1051\n"
     ]
    },
    {
     "name": "stderr",
     "output_type": "stream",
     "text": [
      "Loss: 17.6209, Reconstruction Loss: 17.2425, kl_div_loss: 0.0946: 100%|██████████| 157/157 [00:40<00:00,  3.89batch/s]\n"
     ]
    },
    {
     "name": "stdout",
     "output_type": "stream",
     "text": [
      "End of Epoch 10, Loss: 17.6209, Reconstruction Loss: 17.2425, kl_div_loss: 0.0946\n"
     ]
    },
    {
     "name": "stderr",
     "output_type": "stream",
     "text": [
      "Loss: 16.3259, Reconstruction Loss: 15.9819, kl_div_loss: 0.0860: 100%|██████████| 157/157 [00:40<00:00,  3.92batch/s]\n"
     ]
    },
    {
     "name": "stdout",
     "output_type": "stream",
     "text": [
      "End of Epoch 11, Loss: 16.3259, Reconstruction Loss: 15.9819, kl_div_loss: 0.0860\n"
     ]
    },
    {
     "name": "stderr",
     "output_type": "stream",
     "text": [
      "Loss: 15.2465, Reconstruction Loss: 14.9311, kl_div_loss: 0.0788: 100%|██████████| 157/157 [00:44<00:00,  3.53batch/s]\n"
     ]
    },
    {
     "name": "stdout",
     "output_type": "stream",
     "text": [
      "End of Epoch 12, Loss: 15.2465, Reconstruction Loss: 14.9311, kl_div_loss: 0.0788\n"
     ]
    },
    {
     "name": "stderr",
     "output_type": "stream",
     "text": [
      "Loss: 14.3329, Reconstruction Loss: 14.0418, kl_div_loss: 0.0728: 100%|██████████| 157/157 [00:46<00:00,  3.37batch/s]\n"
     ]
    },
    {
     "name": "stdout",
     "output_type": "stream",
     "text": [
      "End of Epoch 13, Loss: 14.3329, Reconstruction Loss: 14.0418, kl_div_loss: 0.0728\n"
     ]
    },
    {
     "name": "stderr",
     "output_type": "stream",
     "text": [
      "Loss: 13.5498, Reconstruction Loss: 13.2795, kl_div_loss: 0.0676: 100%|██████████| 157/157 [00:41<00:00,  3.80batch/s]\n"
     ]
    },
    {
     "name": "stdout",
     "output_type": "stream",
     "text": [
      "End of Epoch 14, Loss: 13.5498, Reconstruction Loss: 13.2795, kl_div_loss: 0.0676\n"
     ]
    },
    {
     "name": "stderr",
     "output_type": "stream",
     "text": [
      "Loss: 12.8709, Reconstruction Loss: 12.6186, kl_div_loss: 0.0631: 100%|██████████| 157/157 [00:45<00:00,  3.44batch/s]\n"
     ]
    },
    {
     "name": "stdout",
     "output_type": "stream",
     "text": [
      "End of Epoch 15, Loss: 12.8709, Reconstruction Loss: 12.6186, kl_div_loss: 0.0631\n"
     ]
    },
    {
     "name": "stderr",
     "output_type": "stream",
     "text": [
      "Loss: 12.2769, Reconstruction Loss: 12.0403, kl_div_loss: 0.0591: 100%|██████████| 157/157 [00:39<00:00,  3.93batch/s]\n"
     ]
    },
    {
     "name": "stdout",
     "output_type": "stream",
     "text": [
      "End of Epoch 16, Loss: 12.2769, Reconstruction Loss: 12.0403, kl_div_loss: 0.0591\n"
     ]
    },
    {
     "name": "stderr",
     "output_type": "stream",
     "text": [
      "Loss: 11.7526, Reconstruction Loss: 11.5300, kl_div_loss: 0.0557: 100%|██████████| 157/157 [00:43<00:00,  3.57batch/s]\n"
     ]
    },
    {
     "name": "stdout",
     "output_type": "stream",
     "text": [
      "End of Epoch 17, Loss: 11.7526, Reconstruction Loss: 11.5300, kl_div_loss: 0.0557\n"
     ]
    },
    {
     "name": "stderr",
     "output_type": "stream",
     "text": [
      "Loss: 11.2866, Reconstruction Loss: 11.0764, kl_div_loss: 0.0526: 100%|██████████| 157/157 [00:43<00:00,  3.59batch/s]\n"
     ]
    },
    {
     "name": "stdout",
     "output_type": "stream",
     "text": [
      "End of Epoch 18, Loss: 11.2866, Reconstruction Loss: 11.0764, kl_div_loss: 0.0526\n"
     ]
    },
    {
     "name": "stderr",
     "output_type": "stream",
     "text": [
      "Loss: 10.8696, Reconstruction Loss: 10.6704, kl_div_loss: 0.0498: 100%|██████████| 157/157 [00:39<00:00,  3.97batch/s]\n"
     ]
    },
    {
     "name": "stdout",
     "output_type": "stream",
     "text": [
      "End of Epoch 19, Loss: 10.8696, Reconstruction Loss: 10.6704, kl_div_loss: 0.0498\n"
     ]
    },
    {
     "name": "stderr",
     "output_type": "stream",
     "text": [
      "Loss: 10.4943, Reconstruction Loss: 10.3050, kl_div_loss: 0.0473: 100%|██████████| 157/157 [00:39<00:00,  3.99batch/s]\n"
     ]
    },
    {
     "name": "stdout",
     "output_type": "stream",
     "text": [
      "End of Epoch 20, Loss: 10.4943, Reconstruction Loss: 10.3050, kl_div_loss: 0.0473\n"
     ]
    },
    {
     "name": "stderr",
     "output_type": "stream",
     "text": [
      "Loss: 10.1547, Reconstruction Loss: 9.9744, kl_div_loss: 0.0451: 100%|██████████| 157/157 [00:39<00:00,  3.97batch/s] \n"
     ]
    },
    {
     "name": "stdout",
     "output_type": "stream",
     "text": [
      "End of Epoch 21, Loss: 10.1547, Reconstruction Loss: 9.9744, kl_div_loss: 0.0451\n"
     ]
    },
    {
     "name": "stderr",
     "output_type": "stream",
     "text": [
      "Loss: 9.8459, Reconstruction Loss: 9.6739, kl_div_loss: 0.0430: 100%|██████████| 157/157 [00:40<00:00,  3.88batch/s]\n"
     ]
    },
    {
     "name": "stdout",
     "output_type": "stream",
     "text": [
      "End of Epoch 22, Loss: 9.8459, Reconstruction Loss: 9.6739, kl_div_loss: 0.0430\n"
     ]
    },
    {
     "name": "stderr",
     "output_type": "stream",
     "text": [
      "Loss: 9.5640, Reconstruction Loss: 9.3994, kl_div_loss: 0.0411: 100%|██████████| 157/157 [00:38<00:00,  4.06batch/s]\n"
     ]
    },
    {
     "name": "stdout",
     "output_type": "stream",
     "text": [
      "End of Epoch 23, Loss: 9.5640, Reconstruction Loss: 9.3994, kl_div_loss: 0.0411\n"
     ]
    },
    {
     "name": "stderr",
     "output_type": "stream",
     "text": [
      "Loss: 9.3055, Reconstruction Loss: 9.1478, kl_div_loss: 0.0394: 100%|██████████| 157/157 [00:40<00:00,  3.92batch/s]\n"
     ]
    },
    {
     "name": "stdout",
     "output_type": "stream",
     "text": [
      "End of Epoch 24, Loss: 9.3055, Reconstruction Loss: 9.1478, kl_div_loss: 0.0394\n"
     ]
    },
    {
     "name": "stderr",
     "output_type": "stream",
     "text": [
      "Loss: 9.0678, Reconstruction Loss: 8.9164, kl_div_loss: 0.0378: 100%|██████████| 157/157 [00:42<00:00,  3.70batch/s]\n"
     ]
    },
    {
     "name": "stdout",
     "output_type": "stream",
     "text": [
      "End of Epoch 25, Loss: 9.0678, Reconstruction Loss: 8.9164, kl_div_loss: 0.0378\n"
     ]
    },
    {
     "name": "stderr",
     "output_type": "stream",
     "text": [
      "Loss: 8.8483, Reconstruction Loss: 8.7027, kl_div_loss: 0.0364: 100%|██████████| 157/157 [00:42<00:00,  3.69batch/s]\n"
     ]
    },
    {
     "name": "stdout",
     "output_type": "stream",
     "text": [
      "End of Epoch 26, Loss: 8.8483, Reconstruction Loss: 8.7027, kl_div_loss: 0.0364\n"
     ]
    },
    {
     "name": "stderr",
     "output_type": "stream",
     "text": [
      "Loss: 8.6450, Reconstruction Loss: 8.5048, kl_div_loss: 0.0350: 100%|██████████| 157/157 [00:43<00:00,  3.65batch/s]\n"
     ]
    },
    {
     "name": "stdout",
     "output_type": "stream",
     "text": [
      "End of Epoch 27, Loss: 8.6450, Reconstruction Loss: 8.5048, kl_div_loss: 0.0350\n"
     ]
    },
    {
     "name": "stderr",
     "output_type": "stream",
     "text": [
      "Loss: 8.4563, Reconstruction Loss: 8.3211, kl_div_loss: 0.0338: 100%|██████████| 157/157 [00:46<00:00,  3.39batch/s]\n"
     ]
    },
    {
     "name": "stdout",
     "output_type": "stream",
     "text": [
      "End of Epoch 28, Loss: 8.4563, Reconstruction Loss: 8.3211, kl_div_loss: 0.0338\n"
     ]
    },
    {
     "name": "stderr",
     "output_type": "stream",
     "text": [
      "Loss: 8.2806, Reconstruction Loss: 8.1500, kl_div_loss: 0.0326: 100%|██████████| 157/157 [00:39<00:00,  3.93batch/s]\n"
     ]
    },
    {
     "name": "stdout",
     "output_type": "stream",
     "text": [
      "End of Epoch 29, Loss: 8.2806, Reconstruction Loss: 8.1500, kl_div_loss: 0.0326\n"
     ]
    },
    {
     "name": "stderr",
     "output_type": "stream",
     "text": [
      "Loss: 8.1165, Reconstruction Loss: 7.9904, kl_div_loss: 0.0315: 100%|██████████| 157/157 [00:38<00:00,  4.08batch/s]\n"
     ]
    },
    {
     "name": "stdout",
     "output_type": "stream",
     "text": [
      "End of Epoch 30, Loss: 8.1165, Reconstruction Loss: 7.9904, kl_div_loss: 0.0315\n"
     ]
    },
    {
     "name": "stderr",
     "output_type": "stream",
     "text": [
      "Loss: 7.9631, Reconstruction Loss: 7.8410, kl_div_loss: 0.0305: 100%|██████████| 157/157 [00:38<00:00,  4.05batch/s]\n"
     ]
    },
    {
     "name": "stdout",
     "output_type": "stream",
     "text": [
      "End of Epoch 31, Loss: 7.9631, Reconstruction Loss: 7.8410, kl_div_loss: 0.0305\n"
     ]
    },
    {
     "name": "stderr",
     "output_type": "stream",
     "text": [
      "Loss: 7.8193, Reconstruction Loss: 7.7010, kl_div_loss: 0.0296: 100%|██████████| 157/157 [00:38<00:00,  4.04batch/s]\n"
     ]
    },
    {
     "name": "stdout",
     "output_type": "stream",
     "text": [
      "End of Epoch 32, Loss: 7.8193, Reconstruction Loss: 7.7010, kl_div_loss: 0.0296\n"
     ]
    },
    {
     "name": "stderr",
     "output_type": "stream",
     "text": [
      "Loss: 7.6841, Reconstruction Loss: 7.5694, kl_div_loss: 0.0287: 100%|██████████| 157/157 [00:38<00:00,  4.06batch/s]\n"
     ]
    },
    {
     "name": "stdout",
     "output_type": "stream",
     "text": [
      "End of Epoch 33, Loss: 7.6841, Reconstruction Loss: 7.5694, kl_div_loss: 0.0287\n"
     ]
    },
    {
     "name": "stderr",
     "output_type": "stream",
     "text": [
      "Loss: 7.5569, Reconstruction Loss: 7.4456, kl_div_loss: 0.0278: 100%|██████████| 157/157 [00:38<00:00,  4.12batch/s]\n"
     ]
    },
    {
     "name": "stdout",
     "output_type": "stream",
     "text": [
      "End of Epoch 34, Loss: 7.5569, Reconstruction Loss: 7.4456, kl_div_loss: 0.0278\n"
     ]
    },
    {
     "name": "stderr",
     "output_type": "stream",
     "text": [
      "Loss: 7.4370, Reconstruction Loss: 7.3289, kl_div_loss: 0.0270: 100%|██████████| 157/157 [00:38<00:00,  4.09batch/s]\n"
     ]
    },
    {
     "name": "stdout",
     "output_type": "stream",
     "text": [
      "End of Epoch 35, Loss: 7.4370, Reconstruction Loss: 7.3289, kl_div_loss: 0.0270\n"
     ]
    },
    {
     "name": "stderr",
     "output_type": "stream",
     "text": [
      "Loss: 7.3238, Reconstruction Loss: 7.2186, kl_div_loss: 0.0263: 100%|██████████| 157/157 [00:41<00:00,  3.78batch/s]\n"
     ]
    },
    {
     "name": "stdout",
     "output_type": "stream",
     "text": [
      "End of Epoch 36, Loss: 7.3238, Reconstruction Loss: 7.2186, kl_div_loss: 0.0263\n"
     ]
    },
    {
     "name": "stderr",
     "output_type": "stream",
     "text": [
      "Loss: 7.2166, Reconstruction Loss: 7.1143, kl_div_loss: 0.0256: 100%|██████████| 157/157 [00:42<00:00,  3.66batch/s]\n"
     ]
    },
    {
     "name": "stdout",
     "output_type": "stream",
     "text": [
      "End of Epoch 37, Loss: 7.2166, Reconstruction Loss: 7.1143, kl_div_loss: 0.0256\n"
     ]
    },
    {
     "name": "stderr",
     "output_type": "stream",
     "text": [
      "Loss: 7.1151, Reconstruction Loss: 7.0155, kl_div_loss: 0.0249: 100%|██████████| 157/157 [00:42<00:00,  3.68batch/s]\n"
     ]
    },
    {
     "name": "stdout",
     "output_type": "stream",
     "text": [
      "End of Epoch 38, Loss: 7.1151, Reconstruction Loss: 7.0155, kl_div_loss: 0.0249\n"
     ]
    },
    {
     "name": "stderr",
     "output_type": "stream",
     "text": [
      "Loss: 7.0188, Reconstruction Loss: 6.9218, kl_div_loss: 0.0243: 100%|██████████| 157/157 [00:44<00:00,  3.52batch/s]\n"
     ]
    },
    {
     "name": "stdout",
     "output_type": "stream",
     "text": [
      "End of Epoch 39, Loss: 7.0188, Reconstruction Loss: 6.9218, kl_div_loss: 0.0243\n"
     ]
    },
    {
     "name": "stderr",
     "output_type": "stream",
     "text": [
      "Loss: 6.9273, Reconstruction Loss: 6.8327, kl_div_loss: 0.0237: 100%|██████████| 157/157 [00:42<00:00,  3.66batch/s]\n"
     ]
    },
    {
     "name": "stdout",
     "output_type": "stream",
     "text": [
      "End of Epoch 40, Loss: 6.9273, Reconstruction Loss: 6.8327, kl_div_loss: 0.0237\n"
     ]
    },
    {
     "name": "stderr",
     "output_type": "stream",
     "text": [
      "Loss: 6.8403, Reconstruction Loss: 6.7480, kl_div_loss: 0.0231: 100%|██████████| 157/157 [00:42<00:00,  3.65batch/s]\n"
     ]
    },
    {
     "name": "stdout",
     "output_type": "stream",
     "text": [
      "End of Epoch 41, Loss: 6.8403, Reconstruction Loss: 6.7480, kl_div_loss: 0.0231\n"
     ]
    },
    {
     "name": "stderr",
     "output_type": "stream",
     "text": [
      "Loss: 6.7574, Reconstruction Loss: 6.6673, kl_div_loss: 0.0225: 100%|██████████| 157/157 [00:43<00:00,  3.62batch/s]\n"
     ]
    },
    {
     "name": "stdout",
     "output_type": "stream",
     "text": [
      "End of Epoch 42, Loss: 6.7574, Reconstruction Loss: 6.6673, kl_div_loss: 0.0225\n"
     ]
    },
    {
     "name": "stderr",
     "output_type": "stream",
     "text": [
      "Loss: 6.6784, Reconstruction Loss: 6.5904, kl_div_loss: 0.0220: 100%|██████████| 157/157 [00:44<00:00,  3.54batch/s]\n"
     ]
    },
    {
     "name": "stdout",
     "output_type": "stream",
     "text": [
      "End of Epoch 43, Loss: 6.6784, Reconstruction Loss: 6.5904, kl_div_loss: 0.0220\n"
     ]
    },
    {
     "name": "stderr",
     "output_type": "stream",
     "text": [
      "Loss: 6.6029, Reconstruction Loss: 6.5169, kl_div_loss: 0.0215: 100%|██████████| 157/157 [00:45<00:00,  3.43batch/s]\n"
     ]
    },
    {
     "name": "stdout",
     "output_type": "stream",
     "text": [
      "End of Epoch 44, Loss: 6.6029, Reconstruction Loss: 6.5169, kl_div_loss: 0.0215\n"
     ]
    },
    {
     "name": "stderr",
     "output_type": "stream",
     "text": [
      "Loss: 6.5309, Reconstruction Loss: 6.4467, kl_div_loss: 0.0210: 100%|██████████| 157/157 [00:43<00:00,  3.60batch/s]\n"
     ]
    },
    {
     "name": "stdout",
     "output_type": "stream",
     "text": [
      "End of Epoch 45, Loss: 6.5309, Reconstruction Loss: 6.4467, kl_div_loss: 0.0210\n"
     ]
    },
    {
     "name": "stderr",
     "output_type": "stream",
     "text": [
      "Loss: 6.4619, Reconstruction Loss: 6.3796, kl_div_loss: 0.0206: 100%|██████████| 157/157 [00:42<00:00,  3.71batch/s]\n"
     ]
    },
    {
     "name": "stdout",
     "output_type": "stream",
     "text": [
      "End of Epoch 46, Loss: 6.4619, Reconstruction Loss: 6.3796, kl_div_loss: 0.0206\n"
     ]
    },
    {
     "name": "stderr",
     "output_type": "stream",
     "text": [
      "Loss: 6.3959, Reconstruction Loss: 6.3154, kl_div_loss: 0.0201: 100%|██████████| 157/157 [00:42<00:00,  3.70batch/s]\n"
     ]
    },
    {
     "name": "stdout",
     "output_type": "stream",
     "text": [
      "End of Epoch 47, Loss: 6.3959, Reconstruction Loss: 6.3154, kl_div_loss: 0.0201\n"
     ]
    },
    {
     "name": "stderr",
     "output_type": "stream",
     "text": [
      "Loss: 6.3326, Reconstruction Loss: 6.2538, kl_div_loss: 0.0197: 100%|██████████| 157/157 [00:41<00:00,  3.76batch/s]\n"
     ]
    },
    {
     "name": "stdout",
     "output_type": "stream",
     "text": [
      "End of Epoch 48, Loss: 6.3326, Reconstruction Loss: 6.2538, kl_div_loss: 0.0197\n"
     ]
    },
    {
     "name": "stderr",
     "output_type": "stream",
     "text": [
      "Loss: 6.2719, Reconstruction Loss: 6.1947, kl_div_loss: 0.0193: 100%|██████████| 157/157 [00:41<00:00,  3.74batch/s]\n"
     ]
    },
    {
     "name": "stdout",
     "output_type": "stream",
     "text": [
      "End of Epoch 49, Loss: 6.2719, Reconstruction Loss: 6.1947, kl_div_loss: 0.0193\n"
     ]
    },
    {
     "name": "stderr",
     "output_type": "stream",
     "text": [
      "Loss: 6.2137, Reconstruction Loss: 6.1380, kl_div_loss: 0.0189: 100%|██████████| 157/157 [00:42<00:00,  3.69batch/s]\n"
     ]
    },
    {
     "name": "stdout",
     "output_type": "stream",
     "text": [
      "End of Epoch 50, Loss: 6.2137, Reconstruction Loss: 6.1380, kl_div_loss: 0.0189\n"
     ]
    },
    {
     "name": "stderr",
     "output_type": "stream",
     "text": [
      "Loss: 6.1577, Reconstruction Loss: 6.0835, kl_div_loss: 0.0186: 100%|██████████| 157/157 [00:43<00:00,  3.62batch/s]\n"
     ]
    },
    {
     "name": "stdout",
     "output_type": "stream",
     "text": [
      "End of Epoch 51, Loss: 6.1577, Reconstruction Loss: 6.0835, kl_div_loss: 0.0186\n"
     ]
    },
    {
     "name": "stderr",
     "output_type": "stream",
     "text": [
      "Loss: 6.1038, Reconstruction Loss: 6.0311, kl_div_loss: 0.0182: 100%|██████████| 157/157 [00:42<00:00,  3.73batch/s]\n"
     ]
    },
    {
     "name": "stdout",
     "output_type": "stream",
     "text": [
      "End of Epoch 52, Loss: 6.1038, Reconstruction Loss: 6.0311, kl_div_loss: 0.0182\n"
     ]
    },
    {
     "name": "stderr",
     "output_type": "stream",
     "text": [
      "Loss: 6.0521, Reconstruction Loss: 5.9806, kl_div_loss: 0.0179: 100%|██████████| 157/157 [00:41<00:00,  3.75batch/s]\n"
     ]
    },
    {
     "name": "stdout",
     "output_type": "stream",
     "text": [
      "End of Epoch 53, Loss: 6.0521, Reconstruction Loss: 5.9806, kl_div_loss: 0.0179\n"
     ]
    },
    {
     "name": "stderr",
     "output_type": "stream",
     "text": [
      "Loss: 6.0022, Reconstruction Loss: 5.9321, kl_div_loss: 0.0175: 100%|██████████| 157/157 [00:42<00:00,  3.71batch/s]\n"
     ]
    },
    {
     "name": "stdout",
     "output_type": "stream",
     "text": [
      "End of Epoch 54, Loss: 6.0022, Reconstruction Loss: 5.9321, kl_div_loss: 0.0175\n"
     ]
    },
    {
     "name": "stderr",
     "output_type": "stream",
     "text": [
      "Loss: 5.9541, Reconstruction Loss: 5.8853, kl_div_loss: 0.0172: 100%|██████████| 157/157 [00:44<00:00,  3.56batch/s]\n"
     ]
    },
    {
     "name": "stdout",
     "output_type": "stream",
     "text": [
      "End of Epoch 55, Loss: 5.9541, Reconstruction Loss: 5.8853, kl_div_loss: 0.0172\n"
     ]
    },
    {
     "name": "stderr",
     "output_type": "stream",
     "text": [
      "Loss: 5.9078, Reconstruction Loss: 5.8402, kl_div_loss: 0.0169: 100%|██████████| 157/157 [00:36<00:00,  4.33batch/s]\n"
     ]
    },
    {
     "name": "stdout",
     "output_type": "stream",
     "text": [
      "End of Epoch 56, Loss: 5.9078, Reconstruction Loss: 5.8402, kl_div_loss: 0.0169\n"
     ]
    },
    {
     "name": "stderr",
     "output_type": "stream",
     "text": [
      "Loss: 5.8630, Reconstruction Loss: 5.7966, kl_div_loss: 0.0166: 100%|██████████| 157/157 [00:36<00:00,  4.36batch/s]\n"
     ]
    },
    {
     "name": "stdout",
     "output_type": "stream",
     "text": [
      "End of Epoch 57, Loss: 5.8630, Reconstruction Loss: 5.7966, kl_div_loss: 0.0166\n"
     ]
    },
    {
     "name": "stderr",
     "output_type": "stream",
     "text": [
      "Loss: 5.8199, Reconstruction Loss: 5.7546, kl_div_loss: 0.0163: 100%|██████████| 157/157 [00:33<00:00,  4.74batch/s]\n"
     ]
    },
    {
     "name": "stdout",
     "output_type": "stream",
     "text": [
      "End of Epoch 58, Loss: 5.8199, Reconstruction Loss: 5.7546, kl_div_loss: 0.0163\n"
     ]
    },
    {
     "name": "stderr",
     "output_type": "stream",
     "text": [
      "Loss: 5.7781, Reconstruction Loss: 5.7140, kl_div_loss: 0.0160: 100%|██████████| 157/157 [00:32<00:00,  4.86batch/s]\n"
     ]
    },
    {
     "name": "stdout",
     "output_type": "stream",
     "text": [
      "End of Epoch 59, Loss: 5.7781, Reconstruction Loss: 5.7140, kl_div_loss: 0.0160\n"
     ]
    },
    {
     "name": "stderr",
     "output_type": "stream",
     "text": [
      "Loss: 5.7378, Reconstruction Loss: 5.6747, kl_div_loss: 0.0158: 100%|██████████| 157/157 [00:32<00:00,  4.88batch/s]\n"
     ]
    },
    {
     "name": "stdout",
     "output_type": "stream",
     "text": [
      "End of Epoch 60, Loss: 5.7378, Reconstruction Loss: 5.6747, kl_div_loss: 0.0158\n"
     ]
    },
    {
     "name": "stderr",
     "output_type": "stream",
     "text": [
      "Loss: 5.6988, Reconstruction Loss: 5.6367, kl_div_loss: 0.0155: 100%|██████████| 157/157 [00:33<00:00,  4.71batch/s]\n"
     ]
    },
    {
     "name": "stdout",
     "output_type": "stream",
     "text": [
      "End of Epoch 61, Loss: 5.6988, Reconstruction Loss: 5.6367, kl_div_loss: 0.0155\n"
     ]
    },
    {
     "name": "stderr",
     "output_type": "stream",
     "text": [
      "Loss: 5.6610, Reconstruction Loss: 5.6000, kl_div_loss: 0.0153: 100%|██████████| 157/157 [00:35<00:00,  4.37batch/s]\n"
     ]
    },
    {
     "name": "stdout",
     "output_type": "stream",
     "text": [
      "End of Epoch 62, Loss: 5.6610, Reconstruction Loss: 5.6000, kl_div_loss: 0.0153\n"
     ]
    },
    {
     "name": "stderr",
     "output_type": "stream",
     "text": [
      "Loss: 5.6245, Reconstruction Loss: 5.5644, kl_div_loss: 0.0150: 100%|██████████| 157/157 [00:34<00:00,  4.61batch/s]\n"
     ]
    },
    {
     "name": "stdout",
     "output_type": "stream",
     "text": [
      "End of Epoch 63, Loss: 5.6245, Reconstruction Loss: 5.5644, kl_div_loss: 0.0150\n"
     ]
    },
    {
     "name": "stderr",
     "output_type": "stream",
     "text": [
      "Loss: 5.5891, Reconstruction Loss: 5.5299, kl_div_loss: 0.0148: 100%|██████████| 157/157 [00:31<00:00,  4.98batch/s]\n"
     ]
    },
    {
     "name": "stdout",
     "output_type": "stream",
     "text": [
      "End of Epoch 64, Loss: 5.5891, Reconstruction Loss: 5.5299, kl_div_loss: 0.0148\n"
     ]
    },
    {
     "name": "stderr",
     "output_type": "stream",
     "text": [
      "Loss: 5.5548, Reconstruction Loss: 5.4965, kl_div_loss: 0.0146: 100%|██████████| 157/157 [00:33<00:00,  4.68batch/s]\n"
     ]
    },
    {
     "name": "stdout",
     "output_type": "stream",
     "text": [
      "End of Epoch 65, Loss: 5.5548, Reconstruction Loss: 5.4965, kl_div_loss: 0.0146\n"
     ]
    },
    {
     "name": "stderr",
     "output_type": "stream",
     "text": [
      "Loss: 5.5215, Reconstruction Loss: 5.4641, kl_div_loss: 0.0143: 100%|██████████| 157/157 [00:37<00:00,  4.15batch/s]\n"
     ]
    },
    {
     "name": "stdout",
     "output_type": "stream",
     "text": [
      "End of Epoch 66, Loss: 5.5215, Reconstruction Loss: 5.4641, kl_div_loss: 0.0143\n"
     ]
    },
    {
     "name": "stderr",
     "output_type": "stream",
     "text": [
      "Loss: 5.4892, Reconstruction Loss: 5.4327, kl_div_loss: 0.0141: 100%|██████████| 157/157 [00:32<00:00,  4.78batch/s]\n"
     ]
    },
    {
     "name": "stdout",
     "output_type": "stream",
     "text": [
      "End of Epoch 67, Loss: 5.4892, Reconstruction Loss: 5.4327, kl_div_loss: 0.0141\n"
     ]
    },
    {
     "name": "stderr",
     "output_type": "stream",
     "text": [
      "Loss: 5.4578, Reconstruction Loss: 5.4022, kl_div_loss: 0.0139: 100%|██████████| 157/157 [00:32<00:00,  4.83batch/s]\n"
     ]
    },
    {
     "name": "stdout",
     "output_type": "stream",
     "text": [
      "End of Epoch 68, Loss: 5.4578, Reconstruction Loss: 5.4022, kl_div_loss: 0.0139\n"
     ]
    },
    {
     "name": "stderr",
     "output_type": "stream",
     "text": [
      "Loss: 5.4274, Reconstruction Loss: 5.3725, kl_div_loss: 0.0137: 100%|██████████| 157/157 [00:31<00:00,  4.91batch/s]\n"
     ]
    },
    {
     "name": "stdout",
     "output_type": "stream",
     "text": [
      "End of Epoch 69, Loss: 5.4274, Reconstruction Loss: 5.3725, kl_div_loss: 0.0137\n"
     ]
    },
    {
     "name": "stderr",
     "output_type": "stream",
     "text": [
      "Loss: 5.3978, Reconstruction Loss: 5.3438, kl_div_loss: 0.0135: 100%|██████████| 157/157 [00:33<00:00,  4.73batch/s]\n"
     ]
    },
    {
     "name": "stdout",
     "output_type": "stream",
     "text": [
      "End of Epoch 70, Loss: 5.3978, Reconstruction Loss: 5.3438, kl_div_loss: 0.0135\n"
     ]
    },
    {
     "name": "stderr",
     "output_type": "stream",
     "text": [
      "Loss: 5.3691, Reconstruction Loss: 5.3158, kl_div_loss: 0.0133: 100%|██████████| 157/157 [00:34<00:00,  4.52batch/s]\n"
     ]
    },
    {
     "name": "stdout",
     "output_type": "stream",
     "text": [
      "End of Epoch 71, Loss: 5.3691, Reconstruction Loss: 5.3158, kl_div_loss: 0.0133\n"
     ]
    },
    {
     "name": "stderr",
     "output_type": "stream",
     "text": [
      "Loss: 5.3412, Reconstruction Loss: 5.2886, kl_div_loss: 0.0131: 100%|██████████| 157/157 [00:33<00:00,  4.63batch/s]\n"
     ]
    },
    {
     "name": "stdout",
     "output_type": "stream",
     "text": [
      "End of Epoch 72, Loss: 5.3412, Reconstruction Loss: 5.2886, kl_div_loss: 0.0131\n"
     ]
    },
    {
     "name": "stderr",
     "output_type": "stream",
     "text": [
      "Loss: 5.3140, Reconstruction Loss: 5.2621, kl_div_loss: 0.0130: 100%|██████████| 157/157 [00:34<00:00,  4.53batch/s]\n"
     ]
    },
    {
     "name": "stdout",
     "output_type": "stream",
     "text": [
      "End of Epoch 73, Loss: 5.3140, Reconstruction Loss: 5.2621, kl_div_loss: 0.0130\n"
     ]
    },
    {
     "name": "stderr",
     "output_type": "stream",
     "text": [
      "Loss: 5.2875, Reconstruction Loss: 5.2364, kl_div_loss: 0.0128: 100%|██████████| 157/157 [00:32<00:00,  4.90batch/s]\n"
     ]
    },
    {
     "name": "stdout",
     "output_type": "stream",
     "text": [
      "End of Epoch 74, Loss: 5.2875, Reconstruction Loss: 5.2364, kl_div_loss: 0.0128\n"
     ]
    },
    {
     "name": "stderr",
     "output_type": "stream",
     "text": [
      "Loss: 5.2618, Reconstruction Loss: 5.2113, kl_div_loss: 0.0126: 100%|██████████| 157/157 [00:30<00:00,  5.16batch/s]\n"
     ]
    },
    {
     "name": "stdout",
     "output_type": "stream",
     "text": [
      "End of Epoch 75, Loss: 5.2618, Reconstruction Loss: 5.2113, kl_div_loss: 0.0126\n"
     ]
    },
    {
     "name": "stderr",
     "output_type": "stream",
     "text": [
      "Loss: 5.2367, Reconstruction Loss: 5.1869, kl_div_loss: 0.0124: 100%|██████████| 157/157 [00:32<00:00,  4.80batch/s]\n"
     ]
    },
    {
     "name": "stdout",
     "output_type": "stream",
     "text": [
      "End of Epoch 76, Loss: 5.2367, Reconstruction Loss: 5.1869, kl_div_loss: 0.0124\n"
     ]
    },
    {
     "name": "stderr",
     "output_type": "stream",
     "text": [
      "Loss: 5.2123, Reconstruction Loss: 5.1632, kl_div_loss: 0.0123: 100%|██████████| 157/157 [00:32<00:00,  4.82batch/s]\n"
     ]
    },
    {
     "name": "stdout",
     "output_type": "stream",
     "text": [
      "End of Epoch 77, Loss: 5.2123, Reconstruction Loss: 5.1632, kl_div_loss: 0.0123\n"
     ]
    },
    {
     "name": "stderr",
     "output_type": "stream",
     "text": [
      "Loss: 5.1886, Reconstruction Loss: 5.1400, kl_div_loss: 0.0121: 100%|██████████| 157/157 [00:34<00:00,  4.58batch/s]\n"
     ]
    },
    {
     "name": "stdout",
     "output_type": "stream",
     "text": [
      "End of Epoch 78, Loss: 5.1886, Reconstruction Loss: 5.1400, kl_div_loss: 0.0121\n"
     ]
    },
    {
     "name": "stderr",
     "output_type": "stream",
     "text": [
      "Loss: 5.1654, Reconstruction Loss: 5.1175, kl_div_loss: 0.0120: 100%|██████████| 157/157 [00:30<00:00,  5.20batch/s]\n"
     ]
    },
    {
     "name": "stdout",
     "output_type": "stream",
     "text": [
      "End of Epoch 79, Loss: 5.1654, Reconstruction Loss: 5.1175, kl_div_loss: 0.0120\n"
     ]
    },
    {
     "name": "stderr",
     "output_type": "stream",
     "text": [
      "Loss: 5.1428, Reconstruction Loss: 5.0955, kl_div_loss: 0.0118: 100%|██████████| 157/157 [00:35<00:00,  4.46batch/s]\n"
     ]
    },
    {
     "name": "stdout",
     "output_type": "stream",
     "text": [
      "End of Epoch 80, Loss: 5.1428, Reconstruction Loss: 5.0955, kl_div_loss: 0.0118\n"
     ]
    },
    {
     "name": "stderr",
     "output_type": "stream",
     "text": [
      "Loss: 5.1207, Reconstruction Loss: 5.0740, kl_div_loss: 0.0117: 100%|██████████| 157/157 [00:35<00:00,  4.49batch/s]\n"
     ]
    },
    {
     "name": "stdout",
     "output_type": "stream",
     "text": [
      "End of Epoch 81, Loss: 5.1207, Reconstruction Loss: 5.0740, kl_div_loss: 0.0117\n"
     ]
    },
    {
     "name": "stderr",
     "output_type": "stream",
     "text": [
      "Loss: 5.0992, Reconstruction Loss: 5.0531, kl_div_loss: 0.0115: 100%|██████████| 157/157 [00:32<00:00,  4.88batch/s]\n"
     ]
    },
    {
     "name": "stdout",
     "output_type": "stream",
     "text": [
      "End of Epoch 82, Loss: 5.0992, Reconstruction Loss: 5.0531, kl_div_loss: 0.0115\n"
     ]
    },
    {
     "name": "stderr",
     "output_type": "stream",
     "text": [
      "Loss: 5.0782, Reconstruction Loss: 5.0326, kl_div_loss: 0.0114: 100%|██████████| 157/157 [00:28<00:00,  5.45batch/s]\n"
     ]
    },
    {
     "name": "stdout",
     "output_type": "stream",
     "text": [
      "End of Epoch 83, Loss: 5.0782, Reconstruction Loss: 5.0326, kl_div_loss: 0.0114\n"
     ]
    },
    {
     "name": "stderr",
     "output_type": "stream",
     "text": [
      "Loss: 5.0578, Reconstruction Loss: 5.0127, kl_div_loss: 0.0113: 100%|██████████| 157/157 [00:31<00:00,  4.97batch/s]\n"
     ]
    },
    {
     "name": "stdout",
     "output_type": "stream",
     "text": [
      "End of Epoch 84, Loss: 5.0578, Reconstruction Loss: 5.0127, kl_div_loss: 0.0113\n"
     ]
    },
    {
     "name": "stderr",
     "output_type": "stream",
     "text": [
      "Loss: 5.0377, Reconstruction Loss: 4.9932, kl_div_loss: 0.0111: 100%|██████████| 157/157 [00:30<00:00,  5.18batch/s]\n"
     ]
    },
    {
     "name": "stdout",
     "output_type": "stream",
     "text": [
      "End of Epoch 85, Loss: 5.0377, Reconstruction Loss: 4.9932, kl_div_loss: 0.0111\n"
     ]
    },
    {
     "name": "stderr",
     "output_type": "stream",
     "text": [
      "Loss: 5.0182, Reconstruction Loss: 4.9742, kl_div_loss: 0.0110: 100%|██████████| 157/157 [00:28<00:00,  5.47batch/s]\n"
     ]
    },
    {
     "name": "stdout",
     "output_type": "stream",
     "text": [
      "End of Epoch 86, Loss: 5.0182, Reconstruction Loss: 4.9742, kl_div_loss: 0.0110\n"
     ]
    },
    {
     "name": "stderr",
     "output_type": "stream",
     "text": [
      "Loss: 4.9991, Reconstruction Loss: 4.9556, kl_div_loss: 0.0109: 100%|██████████| 157/157 [00:28<00:00,  5.48batch/s]\n"
     ]
    },
    {
     "name": "stdout",
     "output_type": "stream",
     "text": [
      "End of Epoch 87, Loss: 4.9991, Reconstruction Loss: 4.9556, kl_div_loss: 0.0109\n"
     ]
    },
    {
     "name": "stderr",
     "output_type": "stream",
     "text": [
      "Loss: 4.9804, Reconstruction Loss: 4.9374, kl_div_loss: 0.0108: 100%|██████████| 157/157 [00:31<00:00,  4.91batch/s]\n"
     ]
    },
    {
     "name": "stdout",
     "output_type": "stream",
     "text": [
      "End of Epoch 88, Loss: 4.9804, Reconstruction Loss: 4.9374, kl_div_loss: 0.0108\n"
     ]
    },
    {
     "name": "stderr",
     "output_type": "stream",
     "text": [
      "Loss: 4.9622, Reconstruction Loss: 4.9197, kl_div_loss: 0.0106: 100%|██████████| 157/157 [00:30<00:00,  5.07batch/s]\n"
     ]
    },
    {
     "name": "stdout",
     "output_type": "stream",
     "text": [
      "End of Epoch 89, Loss: 4.9622, Reconstruction Loss: 4.9197, kl_div_loss: 0.0106\n"
     ]
    },
    {
     "name": "stderr",
     "output_type": "stream",
     "text": [
      "Loss: 4.9443, Reconstruction Loss: 4.9023, kl_div_loss: 0.0105: 100%|██████████| 157/157 [00:32<00:00,  4.77batch/s]\n"
     ]
    },
    {
     "name": "stdout",
     "output_type": "stream",
     "text": [
      "End of Epoch 90, Loss: 4.9443, Reconstruction Loss: 4.9023, kl_div_loss: 0.0105\n"
     ]
    },
    {
     "name": "stderr",
     "output_type": "stream",
     "text": [
      "Loss: 4.9269, Reconstruction Loss: 4.8853, kl_div_loss: 0.0104: 100%|██████████| 157/157 [00:39<00:00,  3.96batch/s]\n"
     ]
    },
    {
     "name": "stdout",
     "output_type": "stream",
     "text": [
      "End of Epoch 91, Loss: 4.9269, Reconstruction Loss: 4.8853, kl_div_loss: 0.0104\n"
     ]
    },
    {
     "name": "stderr",
     "output_type": "stream",
     "text": [
      "Loss: 4.9098, Reconstruction Loss: 4.8687, kl_div_loss: 0.0103: 100%|██████████| 157/157 [00:40<00:00,  3.86batch/s]\n"
     ]
    },
    {
     "name": "stdout",
     "output_type": "stream",
     "text": [
      "End of Epoch 92, Loss: 4.9098, Reconstruction Loss: 4.8687, kl_div_loss: 0.0103\n"
     ]
    },
    {
     "name": "stderr",
     "output_type": "stream",
     "text": [
      "Loss: 4.8931, Reconstruction Loss: 4.8524, kl_div_loss: 0.0102: 100%|██████████| 157/157 [00:30<00:00,  5.10batch/s]\n"
     ]
    },
    {
     "name": "stdout",
     "output_type": "stream",
     "text": [
      "End of Epoch 93, Loss: 4.8931, Reconstruction Loss: 4.8524, kl_div_loss: 0.0102\n"
     ]
    },
    {
     "name": "stderr",
     "output_type": "stream",
     "text": [
      "Loss: 4.8767, Reconstruction Loss: 4.8365, kl_div_loss: 0.0101: 100%|██████████| 157/157 [00:34<00:00,  4.58batch/s]\n"
     ]
    },
    {
     "name": "stdout",
     "output_type": "stream",
     "text": [
      "End of Epoch 94, Loss: 4.8767, Reconstruction Loss: 4.8365, kl_div_loss: 0.0101\n"
     ]
    },
    {
     "name": "stderr",
     "output_type": "stream",
     "text": [
      "Loss: 4.8607, Reconstruction Loss: 4.8209, kl_div_loss: 0.0100: 100%|██████████| 157/157 [00:34<00:00,  4.58batch/s]\n"
     ]
    },
    {
     "name": "stdout",
     "output_type": "stream",
     "text": [
      "End of Epoch 95, Loss: 4.8607, Reconstruction Loss: 4.8209, kl_div_loss: 0.0100\n"
     ]
    },
    {
     "name": "stderr",
     "output_type": "stream",
     "text": [
      "Loss: 4.8450, Reconstruction Loss: 4.8056, kl_div_loss: 0.0099: 100%|██████████| 157/157 [00:31<00:00,  5.04batch/s]\n"
     ]
    },
    {
     "name": "stdout",
     "output_type": "stream",
     "text": [
      "End of Epoch 96, Loss: 4.8450, Reconstruction Loss: 4.8056, kl_div_loss: 0.0099\n"
     ]
    },
    {
     "name": "stderr",
     "output_type": "stream",
     "text": [
      "Loss: 4.8297, Reconstruction Loss: 4.7907, kl_div_loss: 0.0098: 100%|██████████| 157/157 [00:33<00:00,  4.72batch/s]\n"
     ]
    },
    {
     "name": "stdout",
     "output_type": "stream",
     "text": [
      "End of Epoch 97, Loss: 4.8297, Reconstruction Loss: 4.7907, kl_div_loss: 0.0098\n"
     ]
    },
    {
     "name": "stderr",
     "output_type": "stream",
     "text": [
      "Loss: 4.8146, Reconstruction Loss: 4.7760, kl_div_loss: 0.0097: 100%|██████████| 157/157 [00:31<00:00,  5.05batch/s]\n"
     ]
    },
    {
     "name": "stdout",
     "output_type": "stream",
     "text": [
      "End of Epoch 98, Loss: 4.8146, Reconstruction Loss: 4.7760, kl_div_loss: 0.0097\n"
     ]
    },
    {
     "name": "stderr",
     "output_type": "stream",
     "text": [
      "Loss: 4.7999, Reconstruction Loss: 4.7617, kl_div_loss: 0.0096: 100%|██████████| 157/157 [00:29<00:00,  5.24batch/s]\n"
     ]
    },
    {
     "name": "stdout",
     "output_type": "stream",
     "text": [
      "End of Epoch 99, Loss: 4.7999, Reconstruction Loss: 4.7617, kl_div_loss: 0.0096\n"
     ]
    },
    {
     "name": "stderr",
     "output_type": "stream",
     "text": [
      "Loss: 4.7855, Reconstruction Loss: 4.7476, kl_div_loss: 0.0095: 100%|██████████| 157/157 [00:34<00:00,  4.56batch/s]"
     ]
    },
    {
     "name": "stdout",
     "output_type": "stream",
     "text": [
      "End of Epoch 100, Loss: 4.7855, Reconstruction Loss: 4.7476, kl_div_loss: 0.0095\n"
     ]
    },
    {
     "name": "stderr",
     "output_type": "stream",
     "text": [
      "\n"
     ]
    }
   ],
   "source": [
    "train_data = data['imgs'][:10000]\n",
    "val_data = data['imgs'][10000:14000]\n",
    "data_generator = DataGenerator(data = train_data, batch_size=64)\n",
    "epochs = 100\n",
    "model = BetaVAE(10, out_channels=1, beta=4.0)\n",
    "train(model, epochs, data_generator, optimizer=tf.keras.optimizers.legacy.Adam(learning_rate=0.001))"
   ]
  },
  {
   "cell_type": "code",
   "execution_count": 8,
   "metadata": {},
   "outputs": [
    {
     "name": "stderr",
     "output_type": "stream",
     "text": [
      "Loss: 4.7713, Reconstruction Loss: 4.7339, kl_div_loss: 0.0094: 100%|██████████| 157/157 [00:23<00:00,  6.69batch/s]\n"
     ]
    },
    {
     "name": "stdout",
     "output_type": "stream",
     "text": [
      "End of Epoch 1, Loss: 4.7713, Reconstruction Loss: 4.7339, kl_div_loss: 0.0094\n"
     ]
    },
    {
     "name": "stderr",
     "output_type": "stream",
     "text": [
      "Loss: 4.7574, Reconstruction Loss: 4.7203, kl_div_loss: 0.0093: 100%|██████████| 157/157 [00:22<00:00,  7.04batch/s]\n"
     ]
    },
    {
     "name": "stdout",
     "output_type": "stream",
     "text": [
      "End of Epoch 2, Loss: 4.7574, Reconstruction Loss: 4.7203, kl_div_loss: 0.0093\n"
     ]
    },
    {
     "name": "stderr",
     "output_type": "stream",
     "text": [
      "Loss: 4.7438, Reconstruction Loss: 4.7071, kl_div_loss: 0.0092: 100%|██████████| 157/157 [00:22<00:00,  7.02batch/s]\n"
     ]
    },
    {
     "name": "stdout",
     "output_type": "stream",
     "text": [
      "End of Epoch 3, Loss: 4.7438, Reconstruction Loss: 4.7071, kl_div_loss: 0.0092\n"
     ]
    },
    {
     "name": "stderr",
     "output_type": "stream",
     "text": [
      "Loss: 4.7305, Reconstruction Loss: 4.6941, kl_div_loss: 0.0091: 100%|██████████| 157/157 [00:22<00:00,  6.99batch/s]\n"
     ]
    },
    {
     "name": "stdout",
     "output_type": "stream",
     "text": [
      "End of Epoch 4, Loss: 4.7305, Reconstruction Loss: 4.6941, kl_div_loss: 0.0091\n"
     ]
    },
    {
     "name": "stderr",
     "output_type": "stream",
     "text": [
      "Loss: 4.7174, Reconstruction Loss: 4.6813, kl_div_loss: 0.0090: 100%|██████████| 157/157 [00:22<00:00,  6.96batch/s]\n"
     ]
    },
    {
     "name": "stdout",
     "output_type": "stream",
     "text": [
      "End of Epoch 5, Loss: 4.7174, Reconstruction Loss: 4.6813, kl_div_loss: 0.0090\n"
     ]
    },
    {
     "name": "stderr",
     "output_type": "stream",
     "text": [
      "Loss: 4.7045, Reconstruction Loss: 4.6688, kl_div_loss: 0.0089: 100%|██████████| 157/157 [00:22<00:00,  6.88batch/s]\n"
     ]
    },
    {
     "name": "stdout",
     "output_type": "stream",
     "text": [
      "End of Epoch 6, Loss: 4.7045, Reconstruction Loss: 4.6688, kl_div_loss: 0.0089\n"
     ]
    },
    {
     "name": "stderr",
     "output_type": "stream",
     "text": [
      "Loss: 4.6918, Reconstruction Loss: 4.6564, kl_div_loss: 0.0088: 100%|██████████| 157/157 [00:23<00:00,  6.73batch/s]\n"
     ]
    },
    {
     "name": "stdout",
     "output_type": "stream",
     "text": [
      "End of Epoch 7, Loss: 4.6918, Reconstruction Loss: 4.6564, kl_div_loss: 0.0088\n"
     ]
    },
    {
     "name": "stderr",
     "output_type": "stream",
     "text": [
      "Loss: 4.6794, Reconstruction Loss: 4.6444, kl_div_loss: 0.0088: 100%|██████████| 157/157 [00:23<00:00,  6.77batch/s]\n"
     ]
    },
    {
     "name": "stdout",
     "output_type": "stream",
     "text": [
      "End of Epoch 8, Loss: 4.6794, Reconstruction Loss: 4.6444, kl_div_loss: 0.0088\n"
     ]
    },
    {
     "name": "stderr",
     "output_type": "stream",
     "text": [
      "Loss: 4.6672, Reconstruction Loss: 4.6325, kl_div_loss: 0.0087: 100%|██████████| 157/157 [00:23<00:00,  6.65batch/s]\n"
     ]
    },
    {
     "name": "stdout",
     "output_type": "stream",
     "text": [
      "End of Epoch 9, Loss: 4.6672, Reconstruction Loss: 4.6325, kl_div_loss: 0.0087\n"
     ]
    },
    {
     "name": "stderr",
     "output_type": "stream",
     "text": [
      "Loss: 4.6552, Reconstruction Loss: 4.6208, kl_div_loss: 0.0086: 100%|██████████| 157/157 [00:23<00:00,  6.56batch/s]\n"
     ]
    },
    {
     "name": "stdout",
     "output_type": "stream",
     "text": [
      "End of Epoch 10, Loss: 4.6552, Reconstruction Loss: 4.6208, kl_div_loss: 0.0086\n"
     ]
    },
    {
     "name": "stderr",
     "output_type": "stream",
     "text": [
      "Loss: 4.6435, Reconstruction Loss: 4.6094, kl_div_loss: 0.0085: 100%|██████████| 157/157 [00:26<00:00,  5.86batch/s]\n"
     ]
    },
    {
     "name": "stdout",
     "output_type": "stream",
     "text": [
      "End of Epoch 11, Loss: 4.6435, Reconstruction Loss: 4.6094, kl_div_loss: 0.0085\n"
     ]
    },
    {
     "name": "stderr",
     "output_type": "stream",
     "text": [
      "Loss: 4.6319, Reconstruction Loss: 4.5981, kl_div_loss: 0.0084: 100%|██████████| 157/157 [00:27<00:00,  5.61batch/s]\n"
     ]
    },
    {
     "name": "stdout",
     "output_type": "stream",
     "text": [
      "End of Epoch 12, Loss: 4.6319, Reconstruction Loss: 4.5981, kl_div_loss: 0.0084\n"
     ]
    },
    {
     "name": "stderr",
     "output_type": "stream",
     "text": [
      "Loss: 4.6206, Reconstruction Loss: 4.5871, kl_div_loss: 0.0084: 100%|██████████| 157/157 [00:33<00:00,  4.75batch/s]\n"
     ]
    },
    {
     "name": "stdout",
     "output_type": "stream",
     "text": [
      "End of Epoch 13, Loss: 4.6206, Reconstruction Loss: 4.5871, kl_div_loss: 0.0084\n"
     ]
    },
    {
     "name": "stderr",
     "output_type": "stream",
     "text": [
      "Loss: 4.6095, Reconstruction Loss: 4.5763, kl_div_loss: 0.0083: 100%|██████████| 157/157 [00:27<00:00,  5.64batch/s]\n"
     ]
    },
    {
     "name": "stdout",
     "output_type": "stream",
     "text": [
      "End of Epoch 14, Loss: 4.6095, Reconstruction Loss: 4.5763, kl_div_loss: 0.0083\n"
     ]
    },
    {
     "name": "stderr",
     "output_type": "stream",
     "text": [
      "Loss: 4.5985, Reconstruction Loss: 4.5656, kl_div_loss: 0.0082: 100%|██████████| 157/157 [00:28<00:00,  5.60batch/s]\n"
     ]
    },
    {
     "name": "stdout",
     "output_type": "stream",
     "text": [
      "End of Epoch 15, Loss: 4.5985, Reconstruction Loss: 4.5656, kl_div_loss: 0.0082\n"
     ]
    },
    {
     "name": "stderr",
     "output_type": "stream",
     "text": [
      "Loss: 4.5878, Reconstruction Loss: 4.5551, kl_div_loss: 0.0082: 100%|██████████| 157/157 [00:27<00:00,  5.77batch/s]\n"
     ]
    },
    {
     "name": "stdout",
     "output_type": "stream",
     "text": [
      "End of Epoch 16, Loss: 4.5878, Reconstruction Loss: 4.5551, kl_div_loss: 0.0082\n"
     ]
    },
    {
     "name": "stderr",
     "output_type": "stream",
     "text": [
      "Loss: 4.5772, Reconstruction Loss: 4.5449, kl_div_loss: 0.0081: 100%|██████████| 157/157 [00:28<00:00,  5.54batch/s]\n"
     ]
    },
    {
     "name": "stdout",
     "output_type": "stream",
     "text": [
      "End of Epoch 17, Loss: 4.5772, Reconstruction Loss: 4.5449, kl_div_loss: 0.0081\n"
     ]
    },
    {
     "name": "stderr",
     "output_type": "stream",
     "text": [
      "Loss: 4.5669, Reconstruction Loss: 4.5348, kl_div_loss: 0.0080: 100%|██████████| 157/157 [00:30<00:00,  5.17batch/s]\n"
     ]
    },
    {
     "name": "stdout",
     "output_type": "stream",
     "text": [
      "End of Epoch 18, Loss: 4.5669, Reconstruction Loss: 4.5348, kl_div_loss: 0.0080\n"
     ]
    },
    {
     "name": "stderr",
     "output_type": "stream",
     "text": [
      "Loss: 4.5567, Reconstruction Loss: 4.5248, kl_div_loss: 0.0080: 100%|██████████| 157/157 [00:28<00:00,  5.45batch/s]\n"
     ]
    },
    {
     "name": "stdout",
     "output_type": "stream",
     "text": [
      "End of Epoch 19, Loss: 4.5567, Reconstruction Loss: 4.5248, kl_div_loss: 0.0080\n"
     ]
    },
    {
     "name": "stderr",
     "output_type": "stream",
     "text": [
      "Loss: 4.5466, Reconstruction Loss: 4.5151, kl_div_loss: 0.0079: 100%|██████████| 157/157 [00:29<00:00,  5.30batch/s]\n"
     ]
    },
    {
     "name": "stdout",
     "output_type": "stream",
     "text": [
      "End of Epoch 20, Loss: 4.5466, Reconstruction Loss: 4.5151, kl_div_loss: 0.0079\n"
     ]
    },
    {
     "name": "stderr",
     "output_type": "stream",
     "text": [
      "Loss: 4.5368, Reconstruction Loss: 4.5055, kl_div_loss: 0.0078: 100%|██████████| 157/157 [00:31<00:00,  5.04batch/s]\n"
     ]
    },
    {
     "name": "stdout",
     "output_type": "stream",
     "text": [
      "End of Epoch 21, Loss: 4.5368, Reconstruction Loss: 4.5055, kl_div_loss: 0.0078\n"
     ]
    },
    {
     "name": "stderr",
     "output_type": "stream",
     "text": [
      "Loss: 4.5271, Reconstruction Loss: 4.4961, kl_div_loss: 0.0078: 100%|██████████| 157/157 [00:29<00:00,  5.26batch/s]\n"
     ]
    },
    {
     "name": "stdout",
     "output_type": "stream",
     "text": [
      "End of Epoch 22, Loss: 4.5271, Reconstruction Loss: 4.4961, kl_div_loss: 0.0078\n"
     ]
    },
    {
     "name": "stderr",
     "output_type": "stream",
     "text": [
      "Loss: 4.5176, Reconstruction Loss: 4.4868, kl_div_loss: 0.0077: 100%|██████████| 157/157 [00:29<00:00,  5.24batch/s]\n"
     ]
    },
    {
     "name": "stdout",
     "output_type": "stream",
     "text": [
      "End of Epoch 23, Loss: 4.5176, Reconstruction Loss: 4.4868, kl_div_loss: 0.0077\n"
     ]
    },
    {
     "name": "stderr",
     "output_type": "stream",
     "text": [
      "Loss: 4.5082, Reconstruction Loss: 4.4777, kl_div_loss: 0.0076: 100%|██████████| 157/157 [00:33<00:00,  4.67batch/s]\n"
     ]
    },
    {
     "name": "stdout",
     "output_type": "stream",
     "text": [
      "End of Epoch 24, Loss: 4.5082, Reconstruction Loss: 4.4777, kl_div_loss: 0.0076\n"
     ]
    },
    {
     "name": "stderr",
     "output_type": "stream",
     "text": [
      "Loss: 4.4990, Reconstruction Loss: 4.4687, kl_div_loss: 0.0076: 100%|██████████| 157/157 [00:35<00:00,  4.43batch/s]\n"
     ]
    },
    {
     "name": "stdout",
     "output_type": "stream",
     "text": [
      "End of Epoch 25, Loss: 4.4990, Reconstruction Loss: 4.4687, kl_div_loss: 0.0076\n"
     ]
    },
    {
     "name": "stderr",
     "output_type": "stream",
     "text": [
      "Loss: 4.4899, Reconstruction Loss: 4.4598, kl_div_loss: 0.0075: 100%|██████████| 157/157 [00:34<00:00,  4.60batch/s]\n"
     ]
    },
    {
     "name": "stdout",
     "output_type": "stream",
     "text": [
      "End of Epoch 26, Loss: 4.4899, Reconstruction Loss: 4.4598, kl_div_loss: 0.0075\n"
     ]
    },
    {
     "name": "stderr",
     "output_type": "stream",
     "text": [
      "Loss: 4.4809, Reconstruction Loss: 4.4511, kl_div_loss: 0.0075: 100%|██████████| 157/157 [00:33<00:00,  4.69batch/s]\n"
     ]
    },
    {
     "name": "stdout",
     "output_type": "stream",
     "text": [
      "End of Epoch 27, Loss: 4.4809, Reconstruction Loss: 4.4511, kl_div_loss: 0.0075\n"
     ]
    },
    {
     "name": "stderr",
     "output_type": "stream",
     "text": [
      "Loss: 4.4721, Reconstruction Loss: 4.4425, kl_div_loss: 0.0074: 100%|██████████| 157/157 [00:37<00:00,  4.17batch/s]\n"
     ]
    },
    {
     "name": "stdout",
     "output_type": "stream",
     "text": [
      "End of Epoch 28, Loss: 4.4721, Reconstruction Loss: 4.4425, kl_div_loss: 0.0074\n"
     ]
    },
    {
     "name": "stderr",
     "output_type": "stream",
     "text": [
      "Loss: 4.4635, Reconstruction Loss: 4.4341, kl_div_loss: 0.0073: 100%|██████████| 157/157 [00:32<00:00,  4.89batch/s]\n"
     ]
    },
    {
     "name": "stdout",
     "output_type": "stream",
     "text": [
      "End of Epoch 29, Loss: 4.4635, Reconstruction Loss: 4.4341, kl_div_loss: 0.0073\n"
     ]
    },
    {
     "name": "stderr",
     "output_type": "stream",
     "text": [
      "Loss: 4.4549, Reconstruction Loss: 4.4258, kl_div_loss: 0.0073: 100%|██████████| 157/157 [00:31<00:00,  5.06batch/s]\n"
     ]
    },
    {
     "name": "stdout",
     "output_type": "stream",
     "text": [
      "End of Epoch 30, Loss: 4.4549, Reconstruction Loss: 4.4258, kl_div_loss: 0.0073\n"
     ]
    },
    {
     "name": "stderr",
     "output_type": "stream",
     "text": [
      "Loss: 4.4465, Reconstruction Loss: 4.4176, kl_div_loss: 0.0072: 100%|██████████| 157/157 [00:36<00:00,  4.31batch/s]\n"
     ]
    },
    {
     "name": "stdout",
     "output_type": "stream",
     "text": [
      "End of Epoch 31, Loss: 4.4465, Reconstruction Loss: 4.4176, kl_div_loss: 0.0072\n"
     ]
    },
    {
     "name": "stderr",
     "output_type": "stream",
     "text": [
      "Loss: 4.4382, Reconstruction Loss: 4.4095, kl_div_loss: 0.0072: 100%|██████████| 157/157 [00:38<00:00,  4.07batch/s]\n"
     ]
    },
    {
     "name": "stdout",
     "output_type": "stream",
     "text": [
      "End of Epoch 32, Loss: 4.4382, Reconstruction Loss: 4.4095, kl_div_loss: 0.0072\n"
     ]
    },
    {
     "name": "stderr",
     "output_type": "stream",
     "text": [
      "Loss: 4.4301, Reconstruction Loss: 4.4016, kl_div_loss: 0.0071: 100%|██████████| 157/157 [00:38<00:00,  4.10batch/s]\n"
     ]
    },
    {
     "name": "stdout",
     "output_type": "stream",
     "text": [
      "End of Epoch 33, Loss: 4.4301, Reconstruction Loss: 4.4016, kl_div_loss: 0.0071\n"
     ]
    },
    {
     "name": "stderr",
     "output_type": "stream",
     "text": [
      "Loss: 4.4220, Reconstruction Loss: 4.3938, kl_div_loss: 0.0071: 100%|██████████| 157/157 [00:37<00:00,  4.18batch/s]\n"
     ]
    },
    {
     "name": "stdout",
     "output_type": "stream",
     "text": [
      "End of Epoch 34, Loss: 4.4220, Reconstruction Loss: 4.3938, kl_div_loss: 0.0071\n"
     ]
    },
    {
     "name": "stderr",
     "output_type": "stream",
     "text": [
      "Loss: 4.4141, Reconstruction Loss: 4.3861, kl_div_loss: 0.0070: 100%|██████████| 157/157 [00:38<00:00,  4.08batch/s]\n"
     ]
    },
    {
     "name": "stdout",
     "output_type": "stream",
     "text": [
      "End of Epoch 35, Loss: 4.4141, Reconstruction Loss: 4.3861, kl_div_loss: 0.0070\n"
     ]
    },
    {
     "name": "stderr",
     "output_type": "stream",
     "text": [
      "Loss: 4.4063, Reconstruction Loss: 4.3785, kl_div_loss: 0.0070: 100%|██████████| 157/157 [00:35<00:00,  4.37batch/s]\n"
     ]
    },
    {
     "name": "stdout",
     "output_type": "stream",
     "text": [
      "End of Epoch 36, Loss: 4.4063, Reconstruction Loss: 4.3785, kl_div_loss: 0.0070\n"
     ]
    },
    {
     "name": "stderr",
     "output_type": "stream",
     "text": [
      "Loss: 4.3986, Reconstruction Loss: 4.3710, kl_div_loss: 0.0069: 100%|██████████| 157/157 [00:36<00:00,  4.24batch/s]\n"
     ]
    },
    {
     "name": "stdout",
     "output_type": "stream",
     "text": [
      "End of Epoch 37, Loss: 4.3986, Reconstruction Loss: 4.3710, kl_div_loss: 0.0069\n"
     ]
    },
    {
     "name": "stderr",
     "output_type": "stream",
     "text": [
      "Loss: 4.3910, Reconstruction Loss: 4.3636, kl_div_loss: 0.0069: 100%|██████████| 157/157 [00:31<00:00,  5.04batch/s]\n"
     ]
    },
    {
     "name": "stdout",
     "output_type": "stream",
     "text": [
      "End of Epoch 38, Loss: 4.3910, Reconstruction Loss: 4.3636, kl_div_loss: 0.0069\n"
     ]
    },
    {
     "name": "stderr",
     "output_type": "stream",
     "text": [
      "Loss: 4.3836, Reconstruction Loss: 4.3563, kl_div_loss: 0.0068: 100%|██████████| 157/157 [00:28<00:00,  5.50batch/s]\n"
     ]
    },
    {
     "name": "stdout",
     "output_type": "stream",
     "text": [
      "End of Epoch 39, Loss: 4.3836, Reconstruction Loss: 4.3563, kl_div_loss: 0.0068\n"
     ]
    },
    {
     "name": "stderr",
     "output_type": "stream",
     "text": [
      "Loss: 4.3762, Reconstruction Loss: 4.3492, kl_div_loss: 0.0068: 100%|██████████| 157/157 [00:29<00:00,  5.30batch/s]\n"
     ]
    },
    {
     "name": "stdout",
     "output_type": "stream",
     "text": [
      "End of Epoch 40, Loss: 4.3762, Reconstruction Loss: 4.3492, kl_div_loss: 0.0068\n"
     ]
    },
    {
     "name": "stderr",
     "output_type": "stream",
     "text": [
      "Loss: 4.3689, Reconstruction Loss: 4.3421, kl_div_loss: 0.0067: 100%|██████████| 157/157 [00:29<00:00,  5.25batch/s]\n"
     ]
    },
    {
     "name": "stdout",
     "output_type": "stream",
     "text": [
      "End of Epoch 41, Loss: 4.3689, Reconstruction Loss: 4.3421, kl_div_loss: 0.0067\n"
     ]
    },
    {
     "name": "stderr",
     "output_type": "stream",
     "text": [
      "Loss: 4.3618, Reconstruction Loss: 4.3351, kl_div_loss: 0.0067: 100%|██████████| 157/157 [00:32<00:00,  4.85batch/s]\n"
     ]
    },
    {
     "name": "stdout",
     "output_type": "stream",
     "text": [
      "End of Epoch 42, Loss: 4.3618, Reconstruction Loss: 4.3351, kl_div_loss: 0.0067\n"
     ]
    },
    {
     "name": "stderr",
     "output_type": "stream",
     "text": [
      "Loss: 4.3547, Reconstruction Loss: 4.3283, kl_div_loss: 0.0066: 100%|██████████| 157/157 [00:43<00:00,  3.62batch/s]\n"
     ]
    },
    {
     "name": "stdout",
     "output_type": "stream",
     "text": [
      "End of Epoch 43, Loss: 4.3547, Reconstruction Loss: 4.3283, kl_div_loss: 0.0066\n"
     ]
    },
    {
     "name": "stderr",
     "output_type": "stream",
     "text": [
      "Loss: 4.3478, Reconstruction Loss: 4.3215, kl_div_loss: 0.0066: 100%|██████████| 157/157 [00:52<00:00,  3.02batch/s]\n"
     ]
    },
    {
     "name": "stdout",
     "output_type": "stream",
     "text": [
      "End of Epoch 44, Loss: 4.3478, Reconstruction Loss: 4.3215, kl_div_loss: 0.0066\n"
     ]
    },
    {
     "name": "stderr",
     "output_type": "stream",
     "text": [
      "Loss: 4.3409, Reconstruction Loss: 4.3148, kl_div_loss: 0.0065: 100%|██████████| 157/157 [00:40<00:00,  3.85batch/s]\n"
     ]
    },
    {
     "name": "stdout",
     "output_type": "stream",
     "text": [
      "End of Epoch 45, Loss: 4.3409, Reconstruction Loss: 4.3148, kl_div_loss: 0.0065\n"
     ]
    },
    {
     "name": "stderr",
     "output_type": "stream",
     "text": [
      "Loss: 4.3341, Reconstruction Loss: 4.3082, kl_div_loss: 0.0065: 100%|██████████| 157/157 [00:37<00:00,  4.21batch/s]\n"
     ]
    },
    {
     "name": "stdout",
     "output_type": "stream",
     "text": [
      "End of Epoch 46, Loss: 4.3341, Reconstruction Loss: 4.3082, kl_div_loss: 0.0065\n"
     ]
    },
    {
     "name": "stderr",
     "output_type": "stream",
     "text": [
      "Loss: 4.3275, Reconstruction Loss: 4.3017, kl_div_loss: 0.0064: 100%|██████████| 157/157 [00:37<00:00,  4.14batch/s]\n"
     ]
    },
    {
     "name": "stdout",
     "output_type": "stream",
     "text": [
      "End of Epoch 47, Loss: 4.3275, Reconstruction Loss: 4.3017, kl_div_loss: 0.0064\n"
     ]
    },
    {
     "name": "stderr",
     "output_type": "stream",
     "text": [
      "Loss: 4.3209, Reconstruction Loss: 4.2953, kl_div_loss: 0.0064: 100%|██████████| 157/157 [00:36<00:00,  4.34batch/s]\n"
     ]
    },
    {
     "name": "stdout",
     "output_type": "stream",
     "text": [
      "End of Epoch 48, Loss: 4.3209, Reconstruction Loss: 4.2953, kl_div_loss: 0.0064\n"
     ]
    },
    {
     "name": "stderr",
     "output_type": "stream",
     "text": [
      "Loss: 4.3144, Reconstruction Loss: 4.2890, kl_div_loss: 0.0064: 100%|██████████| 157/157 [00:36<00:00,  4.33batch/s]\n"
     ]
    },
    {
     "name": "stdout",
     "output_type": "stream",
     "text": [
      "End of Epoch 49, Loss: 4.3144, Reconstruction Loss: 4.2890, kl_div_loss: 0.0064\n"
     ]
    },
    {
     "name": "stderr",
     "output_type": "stream",
     "text": [
      "Loss: 4.3079, Reconstruction Loss: 4.2827, kl_div_loss: 0.0063: 100%|██████████| 157/157 [00:36<00:00,  4.32batch/s]\n"
     ]
    },
    {
     "name": "stdout",
     "output_type": "stream",
     "text": [
      "End of Epoch 50, Loss: 4.3079, Reconstruction Loss: 4.2827, kl_div_loss: 0.0063\n"
     ]
    },
    {
     "name": "stderr",
     "output_type": "stream",
     "text": [
      "Loss: 4.3016, Reconstruction Loss: 4.2765, kl_div_loss: 0.0063: 100%|██████████| 157/157 [00:36<00:00,  4.31batch/s]\n"
     ]
    },
    {
     "name": "stdout",
     "output_type": "stream",
     "text": [
      "End of Epoch 51, Loss: 4.3016, Reconstruction Loss: 4.2765, kl_div_loss: 0.0063\n"
     ]
    },
    {
     "name": "stderr",
     "output_type": "stream",
     "text": [
      "Loss: 4.2954, Reconstruction Loss: 4.2705, kl_div_loss: 0.0062: 100%|██████████| 157/157 [00:36<00:00,  4.27batch/s]\n"
     ]
    },
    {
     "name": "stdout",
     "output_type": "stream",
     "text": [
      "End of Epoch 52, Loss: 4.2954, Reconstruction Loss: 4.2705, kl_div_loss: 0.0062\n"
     ]
    },
    {
     "name": "stderr",
     "output_type": "stream",
     "text": [
      "Loss: 4.2892, Reconstruction Loss: 4.2645, kl_div_loss: 0.0062: 100%|██████████| 157/157 [00:35<00:00,  4.39batch/s]\n"
     ]
    },
    {
     "name": "stdout",
     "output_type": "stream",
     "text": [
      "End of Epoch 53, Loss: 4.2892, Reconstruction Loss: 4.2645, kl_div_loss: 0.0062\n"
     ]
    },
    {
     "name": "stderr",
     "output_type": "stream",
     "text": [
      "Loss: 4.2831, Reconstruction Loss: 4.2585, kl_div_loss: 0.0061: 100%|██████████| 157/157 [00:35<00:00,  4.43batch/s]\n"
     ]
    },
    {
     "name": "stdout",
     "output_type": "stream",
     "text": [
      "End of Epoch 54, Loss: 4.2831, Reconstruction Loss: 4.2585, kl_div_loss: 0.0061\n"
     ]
    },
    {
     "name": "stderr",
     "output_type": "stream",
     "text": [
      "Loss: 4.2771, Reconstruction Loss: 4.2527, kl_div_loss: 0.0061: 100%|██████████| 157/157 [00:36<00:00,  4.34batch/s]\n"
     ]
    },
    {
     "name": "stdout",
     "output_type": "stream",
     "text": [
      "End of Epoch 55, Loss: 4.2771, Reconstruction Loss: 4.2527, kl_div_loss: 0.0061\n"
     ]
    },
    {
     "name": "stderr",
     "output_type": "stream",
     "text": [
      "Loss: 4.2712, Reconstruction Loss: 4.2469, kl_div_loss: 0.0061: 100%|██████████| 157/157 [00:35<00:00,  4.37batch/s]\n"
     ]
    },
    {
     "name": "stdout",
     "output_type": "stream",
     "text": [
      "End of Epoch 56, Loss: 4.2712, Reconstruction Loss: 4.2469, kl_div_loss: 0.0061\n"
     ]
    },
    {
     "name": "stderr",
     "output_type": "stream",
     "text": [
      "Loss: 4.2653, Reconstruction Loss: 4.2412, kl_div_loss: 0.0060: 100%|██████████| 157/157 [00:35<00:00,  4.45batch/s]\n"
     ]
    },
    {
     "name": "stdout",
     "output_type": "stream",
     "text": [
      "End of Epoch 57, Loss: 4.2653, Reconstruction Loss: 4.2412, kl_div_loss: 0.0060\n"
     ]
    },
    {
     "name": "stderr",
     "output_type": "stream",
     "text": [
      "Loss: 4.2595, Reconstruction Loss: 4.2356, kl_div_loss: 0.0060: 100%|██████████| 157/157 [00:37<00:00,  4.18batch/s]\n"
     ]
    },
    {
     "name": "stdout",
     "output_type": "stream",
     "text": [
      "End of Epoch 58, Loss: 4.2595, Reconstruction Loss: 4.2356, kl_div_loss: 0.0060\n"
     ]
    },
    {
     "name": "stderr",
     "output_type": "stream",
     "text": [
      "Loss: 4.2538, Reconstruction Loss: 4.2300, kl_div_loss: 0.0060: 100%|██████████| 157/157 [00:35<00:00,  4.38batch/s]\n"
     ]
    },
    {
     "name": "stdout",
     "output_type": "stream",
     "text": [
      "End of Epoch 59, Loss: 4.2538, Reconstruction Loss: 4.2300, kl_div_loss: 0.0060\n"
     ]
    },
    {
     "name": "stderr",
     "output_type": "stream",
     "text": [
      "Loss: 4.2482, Reconstruction Loss: 4.2245, kl_div_loss: 0.0059: 100%|██████████| 157/157 [00:38<00:00,  4.06batch/s]\n"
     ]
    },
    {
     "name": "stdout",
     "output_type": "stream",
     "text": [
      "End of Epoch 60, Loss: 4.2482, Reconstruction Loss: 4.2245, kl_div_loss: 0.0059\n"
     ]
    },
    {
     "name": "stderr",
     "output_type": "stream",
     "text": [
      "Loss: 4.2426, Reconstruction Loss: 4.2191, kl_div_loss: 0.0059: 100%|██████████| 157/157 [00:37<00:00,  4.15batch/s]\n"
     ]
    },
    {
     "name": "stdout",
     "output_type": "stream",
     "text": [
      "End of Epoch 61, Loss: 4.2426, Reconstruction Loss: 4.2191, kl_div_loss: 0.0059\n"
     ]
    },
    {
     "name": "stderr",
     "output_type": "stream",
     "text": [
      "Loss: 4.2371, Reconstruction Loss: 4.2137, kl_div_loss: 0.0058: 100%|██████████| 157/157 [00:44<00:00,  3.56batch/s]\n"
     ]
    },
    {
     "name": "stdout",
     "output_type": "stream",
     "text": [
      "End of Epoch 62, Loss: 4.2371, Reconstruction Loss: 4.2137, kl_div_loss: 0.0058\n"
     ]
    },
    {
     "name": "stderr",
     "output_type": "stream",
     "text": [
      "Loss: 4.2317, Reconstruction Loss: 4.2084, kl_div_loss: 0.0058: 100%|██████████| 157/157 [00:46<00:00,  3.40batch/s]\n"
     ]
    },
    {
     "name": "stdout",
     "output_type": "stream",
     "text": [
      "End of Epoch 63, Loss: 4.2317, Reconstruction Loss: 4.2084, kl_div_loss: 0.0058\n"
     ]
    },
    {
     "name": "stderr",
     "output_type": "stream",
     "text": [
      "Loss: 4.2263, Reconstruction Loss: 4.2032, kl_div_loss: 0.0058: 100%|██████████| 157/157 [00:43<00:00,  3.62batch/s]\n"
     ]
    },
    {
     "name": "stdout",
     "output_type": "stream",
     "text": [
      "End of Epoch 64, Loss: 4.2263, Reconstruction Loss: 4.2032, kl_div_loss: 0.0058\n"
     ]
    },
    {
     "name": "stderr",
     "output_type": "stream",
     "text": [
      "Loss: 4.2210, Reconstruction Loss: 4.1980, kl_div_loss: 0.0057: 100%|██████████| 157/157 [00:40<00:00,  3.88batch/s]\n"
     ]
    },
    {
     "name": "stdout",
     "output_type": "stream",
     "text": [
      "End of Epoch 65, Loss: 4.2210, Reconstruction Loss: 4.1980, kl_div_loss: 0.0057\n"
     ]
    },
    {
     "name": "stderr",
     "output_type": "stream",
     "text": [
      "Loss: 4.2158, Reconstruction Loss: 4.1929, kl_div_loss: 0.0057: 100%|██████████| 157/157 [00:32<00:00,  4.76batch/s]\n"
     ]
    },
    {
     "name": "stdout",
     "output_type": "stream",
     "text": [
      "End of Epoch 66, Loss: 4.2158, Reconstruction Loss: 4.1929, kl_div_loss: 0.0057\n"
     ]
    },
    {
     "name": "stderr",
     "output_type": "stream",
     "text": [
      "Loss: 4.2106, Reconstruction Loss: 4.1879, kl_div_loss: 0.0057: 100%|██████████| 157/157 [00:29<00:00,  5.36batch/s]\n"
     ]
    },
    {
     "name": "stdout",
     "output_type": "stream",
     "text": [
      "End of Epoch 67, Loss: 4.2106, Reconstruction Loss: 4.1879, kl_div_loss: 0.0057\n"
     ]
    },
    {
     "name": "stderr",
     "output_type": "stream",
     "text": [
      "Loss: 4.2055, Reconstruction Loss: 4.1829, kl_div_loss: 0.0056: 100%|██████████| 157/157 [00:30<00:00,  5.22batch/s]\n"
     ]
    },
    {
     "name": "stdout",
     "output_type": "stream",
     "text": [
      "End of Epoch 68, Loss: 4.2055, Reconstruction Loss: 4.1829, kl_div_loss: 0.0056\n"
     ]
    },
    {
     "name": "stderr",
     "output_type": "stream",
     "text": [
      "Loss: 4.2004, Reconstruction Loss: 4.1780, kl_div_loss: 0.0056: 100%|██████████| 157/157 [00:29<00:00,  5.34batch/s]\n"
     ]
    },
    {
     "name": "stdout",
     "output_type": "stream",
     "text": [
      "End of Epoch 69, Loss: 4.2004, Reconstruction Loss: 4.1780, kl_div_loss: 0.0056\n"
     ]
    },
    {
     "name": "stderr",
     "output_type": "stream",
     "text": [
      "Loss: 4.1954, Reconstruction Loss: 4.1731, kl_div_loss: 0.0056: 100%|██████████| 157/157 [00:31<00:00,  4.96batch/s]\n"
     ]
    },
    {
     "name": "stdout",
     "output_type": "stream",
     "text": [
      "End of Epoch 70, Loss: 4.1954, Reconstruction Loss: 4.1731, kl_div_loss: 0.0056\n"
     ]
    },
    {
     "name": "stderr",
     "output_type": "stream",
     "text": [
      "Loss: 4.1905, Reconstruction Loss: 4.1683, kl_div_loss: 0.0055: 100%|██████████| 157/157 [00:29<00:00,  5.29batch/s]\n"
     ]
    },
    {
     "name": "stdout",
     "output_type": "stream",
     "text": [
      "End of Epoch 71, Loss: 4.1905, Reconstruction Loss: 4.1683, kl_div_loss: 0.0055\n"
     ]
    },
    {
     "name": "stderr",
     "output_type": "stream",
     "text": [
      "Loss: 4.1856, Reconstruction Loss: 4.1636, kl_div_loss: 0.0055: 100%|██████████| 157/157 [00:33<00:00,  4.64batch/s]\n"
     ]
    },
    {
     "name": "stdout",
     "output_type": "stream",
     "text": [
      "End of Epoch 72, Loss: 4.1856, Reconstruction Loss: 4.1636, kl_div_loss: 0.0055\n"
     ]
    },
    {
     "name": "stderr",
     "output_type": "stream",
     "text": [
      "Loss: 4.1808, Reconstruction Loss: 4.1589, kl_div_loss: 0.0055: 100%|██████████| 157/157 [00:34<00:00,  4.51batch/s]\n"
     ]
    },
    {
     "name": "stdout",
     "output_type": "stream",
     "text": [
      "End of Epoch 73, Loss: 4.1808, Reconstruction Loss: 4.1589, kl_div_loss: 0.0055\n"
     ]
    },
    {
     "name": "stderr",
     "output_type": "stream",
     "text": [
      "Loss: 4.1760, Reconstruction Loss: 4.1542, kl_div_loss: 0.0054: 100%|██████████| 157/157 [00:35<00:00,  4.46batch/s]\n"
     ]
    },
    {
     "name": "stdout",
     "output_type": "stream",
     "text": [
      "End of Epoch 74, Loss: 4.1760, Reconstruction Loss: 4.1542, kl_div_loss: 0.0054\n"
     ]
    },
    {
     "name": "stderr",
     "output_type": "stream",
     "text": [
      "Loss: 4.1713, Reconstruction Loss: 4.1496, kl_div_loss: 0.0054: 100%|██████████| 157/157 [00:35<00:00,  4.42batch/s]\n"
     ]
    },
    {
     "name": "stdout",
     "output_type": "stream",
     "text": [
      "End of Epoch 75, Loss: 4.1713, Reconstruction Loss: 4.1496, kl_div_loss: 0.0054\n"
     ]
    },
    {
     "name": "stderr",
     "output_type": "stream",
     "text": [
      "Loss: 4.1666, Reconstruction Loss: 4.1451, kl_div_loss: 0.0054: 100%|██████████| 157/157 [00:31<00:00,  4.95batch/s]\n"
     ]
    },
    {
     "name": "stdout",
     "output_type": "stream",
     "text": [
      "End of Epoch 76, Loss: 4.1666, Reconstruction Loss: 4.1451, kl_div_loss: 0.0054\n"
     ]
    },
    {
     "name": "stderr",
     "output_type": "stream",
     "text": [
      "Loss: 4.1620, Reconstruction Loss: 4.1406, kl_div_loss: 0.0053: 100%|██████████| 157/157 [00:33<00:00,  4.72batch/s]\n"
     ]
    },
    {
     "name": "stdout",
     "output_type": "stream",
     "text": [
      "End of Epoch 77, Loss: 4.1620, Reconstruction Loss: 4.1406, kl_div_loss: 0.0053\n"
     ]
    },
    {
     "name": "stderr",
     "output_type": "stream",
     "text": [
      "Loss: 4.1574, Reconstruction Loss: 4.1362, kl_div_loss: 0.0053: 100%|██████████| 157/157 [00:29<00:00,  5.24batch/s]\n"
     ]
    },
    {
     "name": "stdout",
     "output_type": "stream",
     "text": [
      "End of Epoch 78, Loss: 4.1574, Reconstruction Loss: 4.1362, kl_div_loss: 0.0053\n"
     ]
    },
    {
     "name": "stderr",
     "output_type": "stream",
     "text": [
      "Loss: 4.1529, Reconstruction Loss: 4.1318, kl_div_loss: 0.0053: 100%|██████████| 157/157 [00:32<00:00,  4.84batch/s]\n"
     ]
    },
    {
     "name": "stdout",
     "output_type": "stream",
     "text": [
      "End of Epoch 79, Loss: 4.1529, Reconstruction Loss: 4.1318, kl_div_loss: 0.0053\n"
     ]
    },
    {
     "name": "stderr",
     "output_type": "stream",
     "text": [
      "Loss: 4.1485, Reconstruction Loss: 4.1274, kl_div_loss: 0.0053: 100%|██████████| 157/157 [00:33<00:00,  4.70batch/s]\n"
     ]
    },
    {
     "name": "stdout",
     "output_type": "stream",
     "text": [
      "End of Epoch 80, Loss: 4.1485, Reconstruction Loss: 4.1274, kl_div_loss: 0.0053\n"
     ]
    },
    {
     "name": "stderr",
     "output_type": "stream",
     "text": [
      "Loss: 4.1441, Reconstruction Loss: 4.1231, kl_div_loss: 0.0052: 100%|██████████| 157/157 [00:29<00:00,  5.27batch/s]\n"
     ]
    },
    {
     "name": "stdout",
     "output_type": "stream",
     "text": [
      "End of Epoch 81, Loss: 4.1441, Reconstruction Loss: 4.1231, kl_div_loss: 0.0052\n"
     ]
    },
    {
     "name": "stderr",
     "output_type": "stream",
     "text": [
      "Loss: 4.1397, Reconstruction Loss: 4.1189, kl_div_loss: 0.0052: 100%|██████████| 157/157 [00:31<00:00,  5.00batch/s]\n"
     ]
    },
    {
     "name": "stdout",
     "output_type": "stream",
     "text": [
      "End of Epoch 82, Loss: 4.1397, Reconstruction Loss: 4.1189, kl_div_loss: 0.0052\n"
     ]
    },
    {
     "name": "stderr",
     "output_type": "stream",
     "text": [
      "Loss: 4.1354, Reconstruction Loss: 4.1147, kl_div_loss: 0.0052: 100%|██████████| 157/157 [00:31<00:00,  4.99batch/s]\n"
     ]
    },
    {
     "name": "stdout",
     "output_type": "stream",
     "text": [
      "End of Epoch 83, Loss: 4.1354, Reconstruction Loss: 4.1147, kl_div_loss: 0.0052\n"
     ]
    },
    {
     "name": "stderr",
     "output_type": "stream",
     "text": [
      "Loss: 4.1311, Reconstruction Loss: 4.1105, kl_div_loss: 0.0051: 100%|██████████| 157/157 [00:36<00:00,  4.26batch/s]\n"
     ]
    },
    {
     "name": "stdout",
     "output_type": "stream",
     "text": [
      "End of Epoch 84, Loss: 4.1311, Reconstruction Loss: 4.1105, kl_div_loss: 0.0051\n"
     ]
    },
    {
     "name": "stderr",
     "output_type": "stream",
     "text": [
      "Loss: 4.1269, Reconstruction Loss: 4.1064, kl_div_loss: 0.0051: 100%|██████████| 157/157 [00:38<00:00,  4.06batch/s]\n"
     ]
    },
    {
     "name": "stdout",
     "output_type": "stream",
     "text": [
      "End of Epoch 85, Loss: 4.1269, Reconstruction Loss: 4.1064, kl_div_loss: 0.0051\n"
     ]
    },
    {
     "name": "stderr",
     "output_type": "stream",
     "text": [
      "Loss: 4.1227, Reconstruction Loss: 4.1024, kl_div_loss: 0.0051: 100%|██████████| 157/157 [00:33<00:00,  4.71batch/s]\n"
     ]
    },
    {
     "name": "stdout",
     "output_type": "stream",
     "text": [
      "End of Epoch 86, Loss: 4.1227, Reconstruction Loss: 4.1024, kl_div_loss: 0.0051\n"
     ]
    },
    {
     "name": "stderr",
     "output_type": "stream",
     "text": [
      "Loss: 4.1186, Reconstruction Loss: 4.0983, kl_div_loss: 0.0051: 100%|██████████| 157/157 [00:30<00:00,  5.07batch/s]\n"
     ]
    },
    {
     "name": "stdout",
     "output_type": "stream",
     "text": [
      "End of Epoch 87, Loss: 4.1186, Reconstruction Loss: 4.0983, kl_div_loss: 0.0051\n"
     ]
    },
    {
     "name": "stderr",
     "output_type": "stream",
     "text": [
      "Loss: 4.1145, Reconstruction Loss: 4.0944, kl_div_loss: 0.0050: 100%|██████████| 157/157 [00:35<00:00,  4.41batch/s]\n"
     ]
    },
    {
     "name": "stdout",
     "output_type": "stream",
     "text": [
      "End of Epoch 88, Loss: 4.1145, Reconstruction Loss: 4.0944, kl_div_loss: 0.0050\n"
     ]
    },
    {
     "name": "stderr",
     "output_type": "stream",
     "text": [
      "Loss: 4.1105, Reconstruction Loss: 4.0904, kl_div_loss: 0.0050: 100%|██████████| 157/157 [00:33<00:00,  4.69batch/s]\n"
     ]
    },
    {
     "name": "stdout",
     "output_type": "stream",
     "text": [
      "End of Epoch 89, Loss: 4.1105, Reconstruction Loss: 4.0904, kl_div_loss: 0.0050\n"
     ]
    },
    {
     "name": "stderr",
     "output_type": "stream",
     "text": [
      "Loss: 4.1065, Reconstruction Loss: 4.0865, kl_div_loss: 0.0050: 100%|██████████| 157/157 [00:29<00:00,  5.25batch/s]\n"
     ]
    },
    {
     "name": "stdout",
     "output_type": "stream",
     "text": [
      "End of Epoch 90, Loss: 4.1065, Reconstruction Loss: 4.0865, kl_div_loss: 0.0050\n"
     ]
    },
    {
     "name": "stderr",
     "output_type": "stream",
     "text": [
      "Loss: 4.1025, Reconstruction Loss: 4.0827, kl_div_loss: 0.0050: 100%|██████████| 157/157 [00:33<00:00,  4.73batch/s]\n"
     ]
    },
    {
     "name": "stdout",
     "output_type": "stream",
     "text": [
      "End of Epoch 91, Loss: 4.1025, Reconstruction Loss: 4.0827, kl_div_loss: 0.0050\n"
     ]
    },
    {
     "name": "stderr",
     "output_type": "stream",
     "text": [
      "Loss: 4.0986, Reconstruction Loss: 4.0788, kl_div_loss: 0.0049: 100%|██████████| 157/157 [00:33<00:00,  4.74batch/s]\n"
     ]
    },
    {
     "name": "stdout",
     "output_type": "stream",
     "text": [
      "End of Epoch 92, Loss: 4.0986, Reconstruction Loss: 4.0788, kl_div_loss: 0.0049\n"
     ]
    },
    {
     "name": "stderr",
     "output_type": "stream",
     "text": [
      "Loss: 4.0947, Reconstruction Loss: 4.0751, kl_div_loss: 0.0049: 100%|██████████| 157/157 [00:33<00:00,  4.70batch/s]\n"
     ]
    },
    {
     "name": "stdout",
     "output_type": "stream",
     "text": [
      "End of Epoch 93, Loss: 4.0947, Reconstruction Loss: 4.0751, kl_div_loss: 0.0049\n"
     ]
    },
    {
     "name": "stderr",
     "output_type": "stream",
     "text": [
      "Loss: 4.0908, Reconstruction Loss: 4.0713, kl_div_loss: 0.0049: 100%|██████████| 157/157 [00:30<00:00,  5.16batch/s]\n"
     ]
    },
    {
     "name": "stdout",
     "output_type": "stream",
     "text": [
      "End of Epoch 94, Loss: 4.0908, Reconstruction Loss: 4.0713, kl_div_loss: 0.0049\n"
     ]
    },
    {
     "name": "stderr",
     "output_type": "stream",
     "text": [
      "Loss: 4.0870, Reconstruction Loss: 4.0676, kl_div_loss: 0.0049: 100%|██████████| 157/157 [00:30<00:00,  5.11batch/s]\n"
     ]
    },
    {
     "name": "stdout",
     "output_type": "stream",
     "text": [
      "End of Epoch 95, Loss: 4.0870, Reconstruction Loss: 4.0676, kl_div_loss: 0.0049\n"
     ]
    },
    {
     "name": "stderr",
     "output_type": "stream",
     "text": [
      "Loss: 4.0833, Reconstruction Loss: 4.0640, kl_div_loss: 0.0048: 100%|██████████| 157/157 [00:33<00:00,  4.72batch/s]\n"
     ]
    },
    {
     "name": "stdout",
     "output_type": "stream",
     "text": [
      "End of Epoch 96, Loss: 4.0833, Reconstruction Loss: 4.0640, kl_div_loss: 0.0048\n"
     ]
    },
    {
     "name": "stderr",
     "output_type": "stream",
     "text": [
      "Loss: 4.0796, Reconstruction Loss: 4.0603, kl_div_loss: 0.0048: 100%|██████████| 157/157 [00:33<00:00,  4.66batch/s]\n"
     ]
    },
    {
     "name": "stdout",
     "output_type": "stream",
     "text": [
      "End of Epoch 97, Loss: 4.0796, Reconstruction Loss: 4.0603, kl_div_loss: 0.0048\n"
     ]
    },
    {
     "name": "stderr",
     "output_type": "stream",
     "text": [
      "Loss: 4.0759, Reconstruction Loss: 4.0568, kl_div_loss: 0.0048: 100%|██████████| 157/157 [00:30<00:00,  5.14batch/s]\n"
     ]
    },
    {
     "name": "stdout",
     "output_type": "stream",
     "text": [
      "End of Epoch 98, Loss: 4.0759, Reconstruction Loss: 4.0568, kl_div_loss: 0.0048\n"
     ]
    },
    {
     "name": "stderr",
     "output_type": "stream",
     "text": [
      "Loss: 4.0722, Reconstruction Loss: 4.0532, kl_div_loss: 0.0048: 100%|██████████| 157/157 [00:31<00:00,  5.05batch/s]\n"
     ]
    },
    {
     "name": "stdout",
     "output_type": "stream",
     "text": [
      "End of Epoch 99, Loss: 4.0722, Reconstruction Loss: 4.0532, kl_div_loss: 0.0048\n"
     ]
    },
    {
     "name": "stderr",
     "output_type": "stream",
     "text": [
      "Loss: 4.0686, Reconstruction Loss: 4.0497, kl_div_loss: 0.0047: 100%|██████████| 157/157 [00:31<00:00,  4.94batch/s]"
     ]
    },
    {
     "name": "stdout",
     "output_type": "stream",
     "text": [
      "End of Epoch 100, Loss: 4.0686, Reconstruction Loss: 4.0497, kl_div_loss: 0.0047\n"
     ]
    },
    {
     "name": "stderr",
     "output_type": "stream",
     "text": [
      "\n"
     ]
    }
   ],
   "source": [
    "train(model, epochs, data_generator, optimizer=tf.keras.optimizers.legacy.Adam(learning_rate=0.001))"
   ]
  },
  {
   "cell_type": "code",
   "execution_count": 7,
   "metadata": {},
   "outputs": [
    {
     "data": {
      "image/png": "[encoded data removed]",
      "text/plain": [
       "<Figure size 1500x1500 with 10 Axes>"
      ]
     },
     "metadata": {},
     "output_type": "display_data"
    },
    {
     "data": {
      "image/png": "[encoded data removed]",
      "text/plain": [
       "<Figure size 1500x1500 with 10 Axes>"
      ]
     },
     "metadata": {},
     "output_type": "display_data"
    },
    {
     "data": {
      "image/png": "[encoded data removed]",
      "text/plain": [
       "<Figure size 1500x1500 with 10 Axes>"
      ]
     },
     "metadata": {},
     "output_type": "display_data"
    },
    {
     "data": {
      "image/png": "[encoded data removed]",
      "text/plain": [
       "<Figure size 1500x1500 with 10 Axes>"
      ]
     },
     "metadata": {},
     "output_type": "display_data"
    },
    {
     "data": {
      "image/png": "[encoded data removed]",
      "text/plain": [
       "<Figure size 1500x1500 with 10 Axes>"
      ]
     },
     "metadata": {},
     "output_type": "display_data"
    },
    {
     "data": {
      "image/png": "[encoded data removed]",
      "text/plain": [
       "<Figure size 1500x1500 with 10 Axes>"
      ]
     },
     "metadata": {},
     "output_type": "display_data"
    },
    {
     "data": {
      "image/png": "[encoded data removed]",
      "text/plain": [
       "<Figure size 1500x1500 with 10 Axes>"
      ]
     },
     "metadata": {},
     "output_type": "display_data"
    },
    {
     "data": {
      "image/png": "[encoded data removed]",
      "text/plain": [
       "<Figure size 1500x1500 with 10 Axes>"
      ]
     },
     "metadata": {},
     "output_type": "display_data"
    },
    {
     "data": {
      "image/png": "[encoded data removed]",
      "text/plain": [
       "<Figure size 1500x1500 with 10 Axes>"
      ]
     },
     "metadata": {},
     "output_type": "display_data"
    },
    {
     "data": {
      "image/png": "[encoded data removed]",
      "text/plain": [
       "<Figure size 1500x1500 with 10 Axes>"
      ]
     },
     "metadata": {},
     "output_type": "display_data"
    }
   ],
   "source": [
    "import numpy as np\n",
    "import matplotlib.pyplot as plt\n",
    "\n",
    "def latent_traversal(model, img, latent_dim, traverse_range=(-2, 2), num_points=10):\n",
    "    \n",
    "    mean, var, z = model.encoder(np.expand_dims(img, 0))\n",
    "    traversal = np.linspace(traverse_range[0], traverse_range[1], num_points)\n",
    "    generated_images = []\n",
    "\n",
    "    for value in traversal:\n",
    "        z_traverse = np.copy(z)\n",
    "        z_traverse[0][latent_dim] = value\n",
    "        img_generated = model.decoder(z_traverse)\n",
    "        generated_images.append(img_generated[0])\n",
    "\n",
    "    return generated_images\n",
    "\n",
    "for i in data_generator:\n",
    "    img = i[2]\n",
    "    break\n",
    "\n",
    "    images = latent_traversal(model, img, latent_dim=i)\n",
    "    fig, axs = plt.subplots(1, len(images), figsize=(15, 15))\n",
    "    for i, img in enumerate(images):\n",
    "        axs[i].imshow(img, cmap='gray')\n",
    "        axs[i].axis('off')\n"
   ]
  },
  {
   "cell_type": "code",
   "execution_count": null,
   "metadata": {},
   "outputs": [],
   "source": []
  }
 ],
 "metadata": {
  "kernelspec": {
   "display_name": "tensorflow",
   "language": "python",
   "name": "python3"
  },
  "language_info": {
   "codemirror_mode": {
    "name": "ipython",
    "version": 3
   },
   "file_extension": ".py",
   "mimetype": "text/x-python",
   "name": "python",
   "nbconvert_exporter": "python",
   "pygments_lexer": "ipython3",
   "version": "3.10.12"
  }
 },
 "nbformat": 4,
 "nbformat_minor": 2
}
